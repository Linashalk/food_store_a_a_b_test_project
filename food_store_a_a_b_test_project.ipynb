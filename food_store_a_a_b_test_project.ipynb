{
 "cells": [
  {
   "cell_type": "markdown",
   "metadata": {},
   "source": [
    "# Сборный проект №2"
   ]
  },
  {
   "cell_type": "markdown",
   "metadata": {},
   "source": [
    "**Описание проекта**\n",
    "\n",
    "Вы работаете в стартапе, который продаёт продукты питания. Нужно разобраться, как ведут себя пользователи вашего мобильного приложения. \n",
    "\n",
    "Изучите воронку продаж. Узнайте, как пользователи доходят до покупки. Сколько пользователей доходит до покупки, а сколько — «застревает» на предыдущих шагах? На каких именно?\n",
    "\n",
    "После этого исследуйте результаты A/A/B-эксперимента. Дизайнеры захотели поменять шрифты во всём приложении, а менеджеры испугались, что пользователям будет непривычно. Договорились принять решение по результатам A/A/B-теста. Пользователей разбили на 3 группы: 2 контрольные со старыми шрифтами и одну экспериментальную — с новыми. Выясните, какой шрифт лучше.\n",
    "\n",
    "Создание двух групп A вместо одной имеет определённые преимущества. Если две контрольные группы окажутся равны, вы можете быть уверены в точности проведенного тестирования. Если же между значениями A и A будут существенные различия, это поможет обнаружить факторы, которые привели к искажению результатов. Сравнение контрольных групп также помогает понять, сколько времени и данных потребуется для дальнейших тестов.\n",
    "\n",
    "В случае общей аналитики и A/A/B-эксперимента работайте с одними и теми же данными. В реальных проектах всегда идут эксперименты. Аналитики исследуют качество работы приложения по общим данным, не учитывая принадлежность пользователей к экспериментам.\n",
    "\n",
    "**Описание данных**\n",
    "\n",
    "Каждая запись в логе — это действие пользователя, или событие. \n",
    "\n",
    "*EventName* — название события;\n",
    "\n",
    "*DeviceIDHash* — уникальный идентификатор пользователя;\n",
    "\n",
    "*EventTimestamp* — время события;\n",
    "\n",
    "*ExpId* — номер эксперимента: 246 и 247 — контрольные группы, а 248 — экспериментальная.\n",
    "\n",
    "**Инструкция по выполнению проекта**\n",
    "\n",
    "***Шаг 1. Откройте файл с данными и изучите общую информацию***\n",
    "\n",
    "Путь к файлу: /datasets/logs_exp.csv. Скачать датасет\n",
    "\n",
    "***Шаг 2. Подготовьте данные***\n",
    "\n",
    "-Замените названия столбцов на удобные для вас;\n",
    "\n",
    "-Проверьте пропуски и типы данных. Откорректируйте, если нужно;\n",
    "\n",
    "-Добавьте столбец даты и времени, а также отдельный столбец дат;\n",
    "\n",
    "***Шаг 3. Изучите и проверьте данные***\n",
    "\n",
    "-Сколько всего событий в логе?\n",
    "\n",
    "-Сколько всего пользователей в логе?\n",
    "\n",
    "-Сколько в среднем событий приходится на пользователя?\n",
    "\n",
    "-Данными за какой период вы располагаете? Найдите максимальную и минимальную дату. Постройте гистограмму по дате и времени. Можно ли быть уверенным, что у вас одинаково полные данные за весь период? Технически в логи новых дней по некоторым пользователям могут «доезжать» события из прошлого — это может «перекашивать данные». Определите, с какого момента данные полные и отбросьте более старые. Данными за какой период времени вы располагаете на самом деле?\n",
    "\n",
    "-Много ли событий и пользователей вы потеряли, отбросив старые данные?\n",
    "\n",
    "-Проверьте, что у вас есть пользователи из всех трёх экспериментальных групп.\n",
    "\n",
    "***Шаг 4. Изучите воронку событий***\n",
    "\n",
    "-Посмотрите, какие события есть в логах, как часто они встречаются. Отсортируйте события по частоте.\n",
    "\n",
    "-Посчитайте, сколько пользователей совершали каждое из этих событий. Отсортируйте события по числу пользователей. Посчитайте долю пользователей, которые хоть раз совершали событие.\n",
    "\n",
    "-Предположите, в каком порядке происходят события. Все ли они выстраиваются в последовательную цепочку? Их не нужно учитывать при расчёте воронки.\n",
    "\n",
    "-По воронке событий посчитайте, какая доля пользователей проходит на следующий шаг воронки (от числа пользователей на предыдущем). То есть для последовательности событий A → B → C посчитайте отношение числа пользователей с событием B к количеству пользователей с событием A, а также отношение числа пользователей с событием C к количеству пользователей с событием B.\n",
    "\n",
    "-На каком шаге теряете больше всего пользователей?\n",
    "\n",
    "-Какая доля пользователей доходит от первого события до оплаты?\n",
    "\n",
    "***Шаг 5. Изучите результаты эксперимента***\n",
    "\n",
    "-Сколько пользователей в каждой экспериментальной группе?\n",
    "\n",
    "-Есть 2 контрольные группы для А/А-эксперимента, чтобы проверить корректность всех механизмов и расчётов. Проверьте, находят ли статистические критерии разницу между выборками 246 и 247.\n",
    "\n",
    "-Выберите самое популярное событие. Посчитайте число пользователей, совершивших это событие в каждой из контрольных групп. Посчитайте долю пользователей, совершивших это событие. Проверьте, будет ли отличие между группами статистически достоверным. Проделайте то же самое для всех других событий (удобно обернуть проверку в отдельную функцию). Можно ли сказать, что разбиение на группы работает корректно?\n",
    "\n",
    "-Аналогично поступите с группой с изменённым шрифтом. Сравните результаты с каждой из контрольных групп в отдельности по каждому событию. Сравните результаты с объединённой контрольной группой. Какие выводы из эксперимента можно сделать?\n",
    "\n",
    "-Какой уровень значимости вы выбрали при проверке статистических гипотез выше? Посчитайте, сколько проверок статистических гипотез вы сделали. При уровне значимости 0.1 каждый десятый раз можно получать ложный результат. Какой уровень значимости стоит применить? Если вы хотите изменить его, проделайте предыдущие пункты и проверьте свои выводы."
   ]
  },
  {
   "cell_type": "markdown",
   "metadata": {},
   "source": [
    "### Загрузка данных и изучение общей информации"
   ]
  },
  {
   "cell_type": "code",
   "execution_count": 1,
   "metadata": {},
   "outputs": [],
   "source": [
    "# Импортируем библиотеки\n",
    "import pandas as pd\n",
    "import numpy as np\n",
    "import seaborn as sns\n",
    "from datetime import date, datetime, timedelta\n",
    "import matplotlib.pyplot as plt\n",
    "from scipy import stats as st\n",
    "import math as mth\n",
    "from plotly import graph_objects as go\n",
    "import os"
   ]
  },
  {
   "cell_type": "code",
   "execution_count": 2,
   "metadata": {},
   "outputs": [],
   "source": [
    "# Открываем файл и сохраняем в переменной\n",
    "pth1 = '/datasets/logs_exp.csv'\n",
    "if os.path.exists(pth1):\n",
    "    logs = pd.read_csv(pth1, sep='\\t')\n",
    "else:\n",
    "    print('Something is wrong')"
   ]
  },
  {
   "cell_type": "code",
   "execution_count": 3,
   "metadata": {},
   "outputs": [
    {
     "data": {
      "text/html": [
       "<div>\n",
       "<style scoped>\n",
       "    .dataframe tbody tr th:only-of-type {\n",
       "        vertical-align: middle;\n",
       "    }\n",
       "\n",
       "    .dataframe tbody tr th {\n",
       "        vertical-align: top;\n",
       "    }\n",
       "\n",
       "    .dataframe thead th {\n",
       "        text-align: right;\n",
       "    }\n",
       "</style>\n",
       "<table border=\"1\" class=\"dataframe\">\n",
       "  <thead>\n",
       "    <tr style=\"text-align: right;\">\n",
       "      <th></th>\n",
       "      <th>EventName</th>\n",
       "      <th>DeviceIDHash</th>\n",
       "      <th>EventTimestamp</th>\n",
       "      <th>ExpId</th>\n",
       "    </tr>\n",
       "  </thead>\n",
       "  <tbody>\n",
       "    <tr>\n",
       "      <th>0</th>\n",
       "      <td>MainScreenAppear</td>\n",
       "      <td>4575588528974610257</td>\n",
       "      <td>1564029816</td>\n",
       "      <td>246</td>\n",
       "    </tr>\n",
       "    <tr>\n",
       "      <th>1</th>\n",
       "      <td>MainScreenAppear</td>\n",
       "      <td>7416695313311560658</td>\n",
       "      <td>1564053102</td>\n",
       "      <td>246</td>\n",
       "    </tr>\n",
       "    <tr>\n",
       "      <th>2</th>\n",
       "      <td>PaymentScreenSuccessful</td>\n",
       "      <td>3518123091307005509</td>\n",
       "      <td>1564054127</td>\n",
       "      <td>248</td>\n",
       "    </tr>\n",
       "    <tr>\n",
       "      <th>3</th>\n",
       "      <td>CartScreenAppear</td>\n",
       "      <td>3518123091307005509</td>\n",
       "      <td>1564054127</td>\n",
       "      <td>248</td>\n",
       "    </tr>\n",
       "    <tr>\n",
       "      <th>4</th>\n",
       "      <td>PaymentScreenSuccessful</td>\n",
       "      <td>6217807653094995999</td>\n",
       "      <td>1564055322</td>\n",
       "      <td>248</td>\n",
       "    </tr>\n",
       "  </tbody>\n",
       "</table>\n",
       "</div>"
      ],
      "text/plain": [
       "                 EventName         DeviceIDHash  EventTimestamp  ExpId\n",
       "0         MainScreenAppear  4575588528974610257      1564029816    246\n",
       "1         MainScreenAppear  7416695313311560658      1564053102    246\n",
       "2  PaymentScreenSuccessful  3518123091307005509      1564054127    248\n",
       "3         CartScreenAppear  3518123091307005509      1564054127    248\n",
       "4  PaymentScreenSuccessful  6217807653094995999      1564055322    248"
      ]
     },
     "execution_count": 3,
     "metadata": {},
     "output_type": "execute_result"
    }
   ],
   "source": [
    "# Выводим на экран таблицу logs\n",
    "logs.head()"
   ]
  },
  {
   "cell_type": "code",
   "execution_count": 4,
   "metadata": {},
   "outputs": [
    {
     "name": "stdout",
     "output_type": "stream",
     "text": [
      "<class 'pandas.core.frame.DataFrame'>\n",
      "RangeIndex: 244126 entries, 0 to 244125\n",
      "Data columns (total 4 columns):\n",
      " #   Column          Non-Null Count   Dtype \n",
      "---  ------          --------------   ----- \n",
      " 0   EventName       244126 non-null  object\n",
      " 1   DeviceIDHash    244126 non-null  int64 \n",
      " 2   EventTimestamp  244126 non-null  int64 \n",
      " 3   ExpId           244126 non-null  int64 \n",
      "dtypes: int64(3), object(1)\n",
      "memory usage: 7.5+ MB\n"
     ]
    }
   ],
   "source": [
    "# Посмотрим общую информацию о таблице logs\n",
    "logs.info()"
   ]
  },
  {
   "cell_type": "markdown",
   "metadata": {},
   "source": [
    "#### Вывод"
   ]
  },
  {
   "cell_type": "markdown",
   "metadata": {},
   "source": [
    "Мы получили таблицу logs, где содержатся 4 столбца и 244126 строк. \n",
    "\n",
    "В столбце EventTimestamp должен быть тип данных datetime64.\n",
    "\n",
    "Также сразу заметно, что для удобства нужно будет привести названия столбцов к единому стилю и змеиному_регистру."
   ]
  },
  {
   "cell_type": "markdown",
   "metadata": {},
   "source": [
    "### Подготовка данных"
   ]
  },
  {
   "cell_type": "code",
   "execution_count": 5,
   "metadata": {},
   "outputs": [
    {
     "data": {
      "text/plain": [
       "Index(['event_name', 'user_id', 'timestamp', 'exp_id'], dtype='object')"
      ]
     },
     "execution_count": 5,
     "metadata": {},
     "output_type": "execute_result"
    }
   ],
   "source": [
    "# Приведем названия столбцов в таблице logs к единому стилю\n",
    "logs = logs.rename(columns={'EventName': 'event_name',\n",
    "                            'DeviceIDHash': 'user_id',\n",
    "                            'EventTimestamp': 'timestamp',\n",
    "                            'ExpId': 'exp_id'})\n",
    "logs.columns"
   ]
  },
  {
   "cell_type": "code",
   "execution_count": 6,
   "metadata": {},
   "outputs": [
    {
     "data": {
      "text/plain": [
       "event_name    0\n",
       "user_id       0\n",
       "timestamp     0\n",
       "exp_id        0\n",
       "dtype: int64"
      ]
     },
     "execution_count": 6,
     "metadata": {},
     "output_type": "execute_result"
    }
   ],
   "source": [
    "# Проверим таблицу logs на наличие пропусков\n",
    "logs.isna().sum()"
   ]
  },
  {
   "cell_type": "code",
   "execution_count": 7,
   "metadata": {},
   "outputs": [
    {
     "data": {
      "text/plain": [
       "413"
      ]
     },
     "execution_count": 7,
     "metadata": {},
     "output_type": "execute_result"
    }
   ],
   "source": [
    "# Проверим таблицу logs на наличие дубликатов\n",
    "logs.duplicated().sum()"
   ]
  },
  {
   "cell_type": "code",
   "execution_count": 8,
   "metadata": {},
   "outputs": [
    {
     "data": {
      "text/plain": [
       "0"
      ]
     },
     "execution_count": 8,
     "metadata": {},
     "output_type": "execute_result"
    }
   ],
   "source": [
    "# Удалим дубликаты и проверим таблицу logs еще раз\n",
    "logs.drop_duplicates(inplace = True)\n",
    "logs.duplicated().sum()"
   ]
  },
  {
   "cell_type": "code",
   "execution_count": 9,
   "metadata": {},
   "outputs": [
    {
     "name": "stdout",
     "output_type": "stream",
     "text": [
      "<class 'pandas.core.frame.DataFrame'>\n",
      "Int64Index: 243713 entries, 0 to 244125\n",
      "Data columns (total 4 columns):\n",
      " #   Column      Non-Null Count   Dtype         \n",
      "---  ------      --------------   -----         \n",
      " 0   event_name  243713 non-null  object        \n",
      " 1   user_id     243713 non-null  int64         \n",
      " 2   timestamp   243713 non-null  datetime64[ns]\n",
      " 3   exp_id      243713 non-null  int64         \n",
      "dtypes: datetime64[ns](1), int64(2), object(1)\n",
      "memory usage: 9.3+ MB\n"
     ]
    }
   ],
   "source": [
    "# Изменим тип данных в столбце timestamp\n",
    "logs['timestamp'] = pd.to_datetime(logs['timestamp'], unit='s')\n",
    "# Выполним проверку\n",
    "logs.info()"
   ]
  },
  {
   "cell_type": "code",
   "execution_count": 10,
   "metadata": {},
   "outputs": [
    {
     "data": {
      "text/html": [
       "<div>\n",
       "<style scoped>\n",
       "    .dataframe tbody tr th:only-of-type {\n",
       "        vertical-align: middle;\n",
       "    }\n",
       "\n",
       "    .dataframe tbody tr th {\n",
       "        vertical-align: top;\n",
       "    }\n",
       "\n",
       "    .dataframe thead th {\n",
       "        text-align: right;\n",
       "    }\n",
       "</style>\n",
       "<table border=\"1\" class=\"dataframe\">\n",
       "  <thead>\n",
       "    <tr style=\"text-align: right;\">\n",
       "      <th></th>\n",
       "      <th>event_name</th>\n",
       "      <th>user_id</th>\n",
       "      <th>timestamp</th>\n",
       "      <th>exp_id</th>\n",
       "    </tr>\n",
       "  </thead>\n",
       "  <tbody>\n",
       "    <tr>\n",
       "      <th>0</th>\n",
       "      <td>MainScreenAppear</td>\n",
       "      <td>4575588528974610257</td>\n",
       "      <td>2019-07-25 04:43:36</td>\n",
       "      <td>246</td>\n",
       "    </tr>\n",
       "    <tr>\n",
       "      <th>1</th>\n",
       "      <td>MainScreenAppear</td>\n",
       "      <td>7416695313311560658</td>\n",
       "      <td>2019-07-25 11:11:42</td>\n",
       "      <td>246</td>\n",
       "    </tr>\n",
       "    <tr>\n",
       "      <th>2</th>\n",
       "      <td>PaymentScreenSuccessful</td>\n",
       "      <td>3518123091307005509</td>\n",
       "      <td>2019-07-25 11:28:47</td>\n",
       "      <td>248</td>\n",
       "    </tr>\n",
       "    <tr>\n",
       "      <th>3</th>\n",
       "      <td>CartScreenAppear</td>\n",
       "      <td>3518123091307005509</td>\n",
       "      <td>2019-07-25 11:28:47</td>\n",
       "      <td>248</td>\n",
       "    </tr>\n",
       "    <tr>\n",
       "      <th>4</th>\n",
       "      <td>PaymentScreenSuccessful</td>\n",
       "      <td>6217807653094995999</td>\n",
       "      <td>2019-07-25 11:48:42</td>\n",
       "      <td>248</td>\n",
       "    </tr>\n",
       "  </tbody>\n",
       "</table>\n",
       "</div>"
      ],
      "text/plain": [
       "                event_name              user_id           timestamp  exp_id\n",
       "0         MainScreenAppear  4575588528974610257 2019-07-25 04:43:36     246\n",
       "1         MainScreenAppear  7416695313311560658 2019-07-25 11:11:42     246\n",
       "2  PaymentScreenSuccessful  3518123091307005509 2019-07-25 11:28:47     248\n",
       "3         CartScreenAppear  3518123091307005509 2019-07-25 11:28:47     248\n",
       "4  PaymentScreenSuccessful  6217807653094995999 2019-07-25 11:48:42     248"
      ]
     },
     "execution_count": 10,
     "metadata": {},
     "output_type": "execute_result"
    }
   ],
   "source": [
    "# Посмотрим на столбец timestamp после изменения типа данных\n",
    "logs.head()"
   ]
  },
  {
   "cell_type": "code",
   "execution_count": 11,
   "metadata": {},
   "outputs": [
    {
     "data": {
      "text/html": [
       "<div>\n",
       "<style scoped>\n",
       "    .dataframe tbody tr th:only-of-type {\n",
       "        vertical-align: middle;\n",
       "    }\n",
       "\n",
       "    .dataframe tbody tr th {\n",
       "        vertical-align: top;\n",
       "    }\n",
       "\n",
       "    .dataframe thead th {\n",
       "        text-align: right;\n",
       "    }\n",
       "</style>\n",
       "<table border=\"1\" class=\"dataframe\">\n",
       "  <thead>\n",
       "    <tr style=\"text-align: right;\">\n",
       "      <th></th>\n",
       "      <th>event_name</th>\n",
       "      <th>user_id</th>\n",
       "      <th>timestamp</th>\n",
       "      <th>exp_id</th>\n",
       "      <th>date</th>\n",
       "    </tr>\n",
       "  </thead>\n",
       "  <tbody>\n",
       "    <tr>\n",
       "      <th>0</th>\n",
       "      <td>MainScreenAppear</td>\n",
       "      <td>4575588528974610257</td>\n",
       "      <td>2019-07-25 04:43:36</td>\n",
       "      <td>246</td>\n",
       "      <td>2019-07-25</td>\n",
       "    </tr>\n",
       "    <tr>\n",
       "      <th>1</th>\n",
       "      <td>MainScreenAppear</td>\n",
       "      <td>7416695313311560658</td>\n",
       "      <td>2019-07-25 11:11:42</td>\n",
       "      <td>246</td>\n",
       "      <td>2019-07-25</td>\n",
       "    </tr>\n",
       "    <tr>\n",
       "      <th>2</th>\n",
       "      <td>PaymentScreenSuccessful</td>\n",
       "      <td>3518123091307005509</td>\n",
       "      <td>2019-07-25 11:28:47</td>\n",
       "      <td>248</td>\n",
       "      <td>2019-07-25</td>\n",
       "    </tr>\n",
       "    <tr>\n",
       "      <th>3</th>\n",
       "      <td>CartScreenAppear</td>\n",
       "      <td>3518123091307005509</td>\n",
       "      <td>2019-07-25 11:28:47</td>\n",
       "      <td>248</td>\n",
       "      <td>2019-07-25</td>\n",
       "    </tr>\n",
       "    <tr>\n",
       "      <th>4</th>\n",
       "      <td>PaymentScreenSuccessful</td>\n",
       "      <td>6217807653094995999</td>\n",
       "      <td>2019-07-25 11:48:42</td>\n",
       "      <td>248</td>\n",
       "      <td>2019-07-25</td>\n",
       "    </tr>\n",
       "  </tbody>\n",
       "</table>\n",
       "</div>"
      ],
      "text/plain": [
       "                event_name              user_id           timestamp  exp_id  \\\n",
       "0         MainScreenAppear  4575588528974610257 2019-07-25 04:43:36     246   \n",
       "1         MainScreenAppear  7416695313311560658 2019-07-25 11:11:42     246   \n",
       "2  PaymentScreenSuccessful  3518123091307005509 2019-07-25 11:28:47     248   \n",
       "3         CartScreenAppear  3518123091307005509 2019-07-25 11:28:47     248   \n",
       "4  PaymentScreenSuccessful  6217807653094995999 2019-07-25 11:48:42     248   \n",
       "\n",
       "         date  \n",
       "0  2019-07-25  \n",
       "1  2019-07-25  \n",
       "2  2019-07-25  \n",
       "3  2019-07-25  \n",
       "4  2019-07-25  "
      ]
     },
     "execution_count": 11,
     "metadata": {},
     "output_type": "execute_result"
    }
   ],
   "source": [
    "# Добавим в таблицу logs столбец с датой. (Столбец с датой и временем у нас есть - timestamp) \n",
    "logs['date'] = logs['timestamp'].dt.date\n",
    "# Посмотрим на таблицу logs после добавления столбца date\n",
    "logs.head()"
   ]
  },
  {
   "cell_type": "markdown",
   "metadata": {},
   "source": [
    "#### Вывод"
   ]
  },
  {
   "cell_type": "markdown",
   "metadata": {},
   "source": [
    "После предобработки данных в таблице logs все названия столбцов приведены к единому стилю, типы данных преобразованы в правильные. Дубликаты и пропуски в таблице отсутсвуют. Также был добавлен столбец date. Данные готовы к анализу."
   ]
  },
  {
   "cell_type": "markdown",
   "metadata": {},
   "source": [
    "### Изучение и проверка данных"
   ]
  },
  {
   "cell_type": "markdown",
   "metadata": {},
   "source": [
    "#### Сколько всего событий в логе?"
   ]
  },
  {
   "cell_type": "code",
   "execution_count": 12,
   "metadata": {},
   "outputs": [
    {
     "data": {
      "text/plain": [
       "array(['MainScreenAppear', 'PaymentScreenSuccessful', 'CartScreenAppear',\n",
       "       'OffersScreenAppear', 'Tutorial'], dtype=object)"
      ]
     },
     "execution_count": 12,
     "metadata": {},
     "output_type": "execute_result"
    }
   ],
   "source": [
    "# Узнаем уникальные названия событий\n",
    "logs['event_name'].unique()"
   ]
  },
  {
   "cell_type": "code",
   "execution_count": 13,
   "metadata": {},
   "outputs": [
    {
     "data": {
      "text/plain": [
       "243713"
      ]
     },
     "execution_count": 13,
     "metadata": {},
     "output_type": "execute_result"
    }
   ],
   "source": [
    "# Узнаем, сколько всего событий в логе\n",
    "logs['event_name'].count()"
   ]
  },
  {
   "cell_type": "code",
   "execution_count": 14,
   "metadata": {},
   "outputs": [
    {
     "data": {
      "text/plain": [
       "MainScreenAppear           119101\n",
       "OffersScreenAppear          46808\n",
       "CartScreenAppear            42668\n",
       "PaymentScreenSuccessful     34118\n",
       "Tutorial                     1018\n",
       "Name: event_name, dtype: int64"
      ]
     },
     "execution_count": 14,
     "metadata": {},
     "output_type": "execute_result"
    }
   ],
   "source": [
    "# Узнаем, количество событий каждого вида\n",
    "logs['event_name'].value_counts()"
   ]
  },
  {
   "cell_type": "markdown",
   "metadata": {},
   "source": [
    "***На основе полученных данных можно отметить, что:***\n",
    "\n",
    "Таблица содержит 5 уникальных названий событий: MainScreenAppear (119101 событий), OffersScreenAppear (46808 событий), CartScreenAppear (42668 событий), PaymentScreenSuccessful (34118 событий), Tutorial (1018 событий).\n",
    "\n",
    "Всего в логе 243713 событий."
   ]
  },
  {
   "cell_type": "markdown",
   "metadata": {},
   "source": [
    "#### Сколько всего пользователей в логе?"
   ]
  },
  {
   "cell_type": "code",
   "execution_count": 15,
   "metadata": {},
   "outputs": [
    {
     "data": {
      "text/plain": [
       "7551"
      ]
     },
     "execution_count": 15,
     "metadata": {},
     "output_type": "execute_result"
    }
   ],
   "source": [
    "# Узнаем, сколько всего пользователей в логе\n",
    "len(logs['user_id'].unique())"
   ]
  },
  {
   "cell_type": "markdown",
   "metadata": {},
   "source": [
    "***На основе полученных данных можно отметить, что:***\n",
    "\n",
    "Мы узнали, что всего в логе 7551 пользователь."
   ]
  },
  {
   "cell_type": "markdown",
   "metadata": {},
   "source": [
    "####  Сколько в среднем событий приходится на пользователя?"
   ]
  },
  {
   "cell_type": "code",
   "execution_count": 16,
   "metadata": {},
   "outputs": [
    {
     "data": {
      "text/plain": [
       "count    7551.000000\n",
       "mean       32.275593\n",
       "std        65.154219\n",
       "min         1.000000\n",
       "25%         9.000000\n",
       "50%        20.000000\n",
       "75%        37.000000\n",
       "max      2307.000000\n",
       "Name: event_name, dtype: float64"
      ]
     },
     "execution_count": 16,
     "metadata": {},
     "output_type": "execute_result"
    }
   ],
   "source": [
    "# Узнаем, в среднем событий приходится на пользователя\n",
    "event_per_user = logs.groupby('user_id')['event_name'].count()\n",
    "event_per_user.describe()"
   ]
  },
  {
   "cell_type": "markdown",
   "metadata": {},
   "source": [
    "***На основе полученных данных можно отметить, что:***\n",
    "\n",
    "Параметр mean показывает, что в среднем, на пользователя приходится 32 события."
   ]
  },
  {
   "cell_type": "markdown",
   "metadata": {},
   "source": [
    "#### Данными за какой период вы располагаете? "
   ]
  },
  {
   "cell_type": "code",
   "execution_count": 17,
   "metadata": {},
   "outputs": [
    {
     "data": {
      "text/plain": [
       "datetime.date(2019, 8, 7)"
      ]
     },
     "metadata": {},
     "output_type": "display_data"
    },
    {
     "data": {
      "text/plain": [
       "datetime.date(2019, 7, 25)"
      ]
     },
     "metadata": {},
     "output_type": "display_data"
    }
   ],
   "source": [
    "# Найдем максимальную и минимальную дату\n",
    "display(logs['date'].max())\n",
    "display(logs['date'].min())"
   ]
  },
  {
   "cell_type": "code",
   "execution_count": 18,
   "metadata": {},
   "outputs": [
    {
     "data": {
      "image/png": "[encoded data removed]",
      "text/plain": [
       "<Figure size 1080x360 with 1 Axes>"
      ]
     },
     "metadata": {
      "needs_background": "light"
     },
     "output_type": "display_data"
    }
   ],
   "source": [
    "# Построим гистограмму по дате и времени\n",
    "plt.figure(figsize=(15,5))\n",
    "logs['timestamp'].hist(bins=300)\n",
    "plt.title('Гистограмма по дате и времени')\n",
    "plt.ylabel('Кол-во событий')\n",
    "plt.xticks(rotation=45)\n",
    "plt.show()"
   ]
  },
  {
   "cell_type": "markdown",
   "metadata": {},
   "source": [
    "***На основе полученных данных можно отметить, что:***\n",
    "\n",
    "График показывает, что мы располагаем полными данными, начиная с 01.08.2019 по 07.08.2019 включительно. В период с 25.07.2019 по 01.08.2019 практически никакой активности не было.\n",
    "\n",
    "Следовательно, у нас нет одинаково полных данных за весь период.\n",
    "\n",
    "Следовательно, на самом деле мы располагаем данными за период с 01.08.2019 по 07.08.2019 включительно."
   ]
  },
  {
   "cell_type": "code",
   "execution_count": 19,
   "metadata": {},
   "outputs": [],
   "source": [
    "# Оставим данные за период с 01.08.2019 по 07.08.2019 включительно\n",
    "new_date = pd.to_datetime('2019-08-01', format = '%Y-%m-%d')\n",
    "new_logs = logs[logs['date'] >= new_date]"
   ]
  },
  {
   "cell_type": "code",
   "execution_count": 20,
   "metadata": {},
   "outputs": [
    {
     "data": {
      "image/png": "[encoded data removed]",
      "text/plain": [
       "<Figure size 1080x360 with 1 Axes>"
      ]
     },
     "metadata": {
      "needs_background": "light"
     },
     "output_type": "display_data"
    }
   ],
   "source": [
    "# Для проверки построим новую гистограмму по дате и времени\n",
    "plt.figure(figsize=(15,5))\n",
    "new_logs['timestamp'].hist(bins=300)\n",
    "plt.title('Гистограмма по дате и времени')\n",
    "plt.ylabel('Кол-во событий')\n",
    "plt.xticks(rotation=45)\n",
    "plt.show()"
   ]
  },
  {
   "cell_type": "markdown",
   "metadata": {},
   "source": [
    "#### Много ли событий и пользователей вы потеряли, отбросив старые данные?\n"
   ]
  },
  {
   "cell_type": "code",
   "execution_count": 21,
   "metadata": {},
   "outputs": [
    {
     "data": {
      "text/plain": [
       "'Потеряно событий:'"
      ]
     },
     "metadata": {},
     "output_type": "display_data"
    },
    {
     "data": {
      "text/plain": [
       "2826"
      ]
     },
     "metadata": {},
     "output_type": "display_data"
    },
    {
     "data": {
      "text/plain": [
       "'Потеряно событий (в %):'"
      ]
     },
     "metadata": {},
     "output_type": "display_data"
    },
    {
     "data": {
      "text/plain": [
       "1.16"
      ]
     },
     "metadata": {},
     "output_type": "display_data"
    }
   ],
   "source": [
    "display('Потеряно событий:', len(logs)-len(new_logs))\n",
    "display('Потеряно событий (в %):', round((len(logs)-len(new_logs))*100/len(logs), 2))"
   ]
  },
  {
   "cell_type": "code",
   "execution_count": 22,
   "metadata": {},
   "outputs": [
    {
     "data": {
      "text/plain": [
       "'Потеряно пользователей:'"
      ]
     },
     "metadata": {},
     "output_type": "display_data"
    },
    {
     "data": {
      "text/plain": [
       "17"
      ]
     },
     "metadata": {},
     "output_type": "display_data"
    },
    {
     "data": {
      "text/plain": [
       "'Потеряно пользователей (в %):'"
      ]
     },
     "metadata": {},
     "output_type": "display_data"
    },
    {
     "data": {
      "text/plain": [
       "0.23"
      ]
     },
     "metadata": {},
     "output_type": "display_data"
    }
   ],
   "source": [
    "display('Потеряно пользователей:', logs['user_id'].nunique()-new_logs['user_id'].nunique())\n",
    "display('Потеряно пользователей (в %):', round((logs['user_id'].nunique()-new_logs['user_id'].nunique())*100/logs['user_id'].nunique(), 2))"
   ]
  },
  {
   "cell_type": "markdown",
   "metadata": {},
   "source": [
    "***На основе полученных данных можно отметить, что:***\n",
    "\n",
    "Мы потеряли всего 2826 событий, что составляет всего 1.16%. А также мы потеряли 17 пользователей, что составляет всего лишь 0.23%. Я считаю, что потери минимальны."
   ]
  },
  {
   "cell_type": "markdown",
   "metadata": {},
   "source": [
    "#### Проверьте, что у вас есть пользователи из всех трёх экспериментальных групп."
   ]
  },
  {
   "cell_type": "code",
   "execution_count": 23,
   "metadata": {},
   "outputs": [
    {
     "data": {
      "text/plain": [
       "exp_id\n",
       "246    2484\n",
       "247    2513\n",
       "248    2537\n",
       "Name: user_id, dtype: int64"
      ]
     },
     "metadata": {},
     "output_type": "display_data"
    }
   ],
   "source": [
    "display(new_logs.groupby('exp_id')['user_id'].nunique())"
   ]
  },
  {
   "cell_type": "markdown",
   "metadata": {},
   "source": [
    "***На основе полученных данных можно отметить, что:***\n",
    "\n",
    "У нас есть пользователи из всех трёх экспериментальных групп."
   ]
  },
  {
   "cell_type": "markdown",
   "metadata": {},
   "source": [
    "#### Вывод"
   ]
  },
  {
   "cell_type": "markdown",
   "metadata": {},
   "source": [
    "В ходе изучения и проверки данных мы узнали, что таблица содержит 5 уникальных событий. Всего в логе 243713 событий и 7551 пользователь. В среднем, на пользователя приходится 32 события.\n",
    "\n",
    "Также мы поняли, что на самом деле мы располагаем данными за период с 01.08.2019 по 07.08.2019 включительно, так как, судя по графику, в период с 25.07.2019 по 01.08.2019 практически никакой активности не было.\n",
    "\n",
    "После того, как мы очистили данные и оставили период с 01.08.2019 по 07.08.2019 включительно, мы потеряли всего 1.16% событий и 0.23% пользователей (17 человек). Тем не менее, потери минимальны.\n",
    "\n",
    "Также мы подтвердили, что у нас имеются пользователи из всех трёх экспериментальных групп."
   ]
  },
  {
   "cell_type": "markdown",
   "metadata": {},
   "source": [
    "### Изучение воронки событий"
   ]
  },
  {
   "cell_type": "markdown",
   "metadata": {},
   "source": [
    "#### Посмотрите, какие события есть в логах, как часто они встречаются. "
   ]
  },
  {
   "cell_type": "code",
   "execution_count": 24,
   "metadata": {},
   "outputs": [
    {
     "data": {
      "text/plain": [
       "MainScreenAppear           117328\n",
       "OffersScreenAppear          46333\n",
       "CartScreenAppear            42303\n",
       "PaymentScreenSuccessful     33918\n",
       "Tutorial                     1005\n",
       "Name: event_name, dtype: int64"
      ]
     },
     "execution_count": 24,
     "metadata": {},
     "output_type": "execute_result"
    }
   ],
   "source": [
    "# Узнаем, количество событий каждого вида\n",
    "new_logs['event_name'].value_counts().sort_values(ascending=False)"
   ]
  },
  {
   "cell_type": "markdown",
   "metadata": {},
   "source": [
    "***На основе полученных данных можно отметить, что:***\n",
    "\n",
    "В логах есть следующие события: MainScreenAppear, OffersScreenAppear, CartScreenAppear, PaymentScreenSuccessful, Tutorial.\n",
    "\n",
    "Самое частое событие - MainScreenAppear (Появление главного экрана) случается 117328 раз. \n",
    "\n",
    "Далее идет событие OffersScreenAppear (Отображение каталога, предложений магазина), которое случается 46333 раза, за ним с небольшим отрывом - CartScreenAppear (Отображение корзины), которое случается 42303 раза. Событие PaymentScreenSuccessful (Отображение, что платеж прошел) случается 33918 раз.\n",
    "\n",
    "А вот самое редкое событие - это Tutorial (Руководство/консультация/обучение), которое встречается всего 1005 раз."
   ]
  },
  {
   "cell_type": "markdown",
   "metadata": {},
   "source": [
    "#### Посчитайте, сколько пользователей совершали каждое из этих событий."
   ]
  },
  {
   "cell_type": "code",
   "execution_count": 25,
   "metadata": {},
   "outputs": [
    {
     "data": {
      "text/html": [
       "<div>\n",
       "<style scoped>\n",
       "    .dataframe tbody tr th:only-of-type {\n",
       "        vertical-align: middle;\n",
       "    }\n",
       "\n",
       "    .dataframe tbody tr th {\n",
       "        vertical-align: top;\n",
       "    }\n",
       "\n",
       "    .dataframe thead th {\n",
       "        text-align: right;\n",
       "    }\n",
       "</style>\n",
       "<table border=\"1\" class=\"dataframe\">\n",
       "  <thead>\n",
       "    <tr style=\"text-align: right;\">\n",
       "      <th></th>\n",
       "      <th>user_id</th>\n",
       "    </tr>\n",
       "    <tr>\n",
       "      <th>event_name</th>\n",
       "      <th></th>\n",
       "    </tr>\n",
       "  </thead>\n",
       "  <tbody>\n",
       "    <tr>\n",
       "      <th>MainScreenAppear</th>\n",
       "      <td>7419</td>\n",
       "    </tr>\n",
       "    <tr>\n",
       "      <th>OffersScreenAppear</th>\n",
       "      <td>4593</td>\n",
       "    </tr>\n",
       "    <tr>\n",
       "      <th>CartScreenAppear</th>\n",
       "      <td>3734</td>\n",
       "    </tr>\n",
       "    <tr>\n",
       "      <th>PaymentScreenSuccessful</th>\n",
       "      <td>3539</td>\n",
       "    </tr>\n",
       "    <tr>\n",
       "      <th>Tutorial</th>\n",
       "      <td>840</td>\n",
       "    </tr>\n",
       "  </tbody>\n",
       "</table>\n",
       "</div>"
      ],
      "text/plain": [
       "                         user_id\n",
       "event_name                      \n",
       "MainScreenAppear            7419\n",
       "OffersScreenAppear          4593\n",
       "CartScreenAppear            3734\n",
       "PaymentScreenSuccessful     3539\n",
       "Tutorial                     840"
      ]
     },
     "execution_count": 25,
     "metadata": {},
     "output_type": "execute_result"
    }
   ],
   "source": [
    "# Узнаем, количество пользователей, совершивших каждое из событий\n",
    "user_and_event = new_logs.groupby('event_name')['user_id'].nunique().sort_values(ascending=False).to_frame()\n",
    "user_and_event"
   ]
  },
  {
   "cell_type": "code",
   "execution_count": 26,
   "metadata": {},
   "outputs": [
    {
     "data": {
      "text/html": [
       "<div>\n",
       "<style scoped>\n",
       "    .dataframe tbody tr th:only-of-type {\n",
       "        vertical-align: middle;\n",
       "    }\n",
       "\n",
       "    .dataframe tbody tr th {\n",
       "        vertical-align: top;\n",
       "    }\n",
       "\n",
       "    .dataframe thead th {\n",
       "        text-align: right;\n",
       "    }\n",
       "</style>\n",
       "<table border=\"1\" class=\"dataframe\">\n",
       "  <thead>\n",
       "    <tr style=\"text-align: right;\">\n",
       "      <th></th>\n",
       "      <th>user_id</th>\n",
       "      <th>percent</th>\n",
       "    </tr>\n",
       "    <tr>\n",
       "      <th>event_name</th>\n",
       "      <th></th>\n",
       "      <th></th>\n",
       "    </tr>\n",
       "  </thead>\n",
       "  <tbody>\n",
       "    <tr>\n",
       "      <th>MainScreenAppear</th>\n",
       "      <td>7419</td>\n",
       "      <td>98.0</td>\n",
       "    </tr>\n",
       "    <tr>\n",
       "      <th>OffersScreenAppear</th>\n",
       "      <td>4593</td>\n",
       "      <td>61.0</td>\n",
       "    </tr>\n",
       "    <tr>\n",
       "      <th>CartScreenAppear</th>\n",
       "      <td>3734</td>\n",
       "      <td>49.0</td>\n",
       "    </tr>\n",
       "    <tr>\n",
       "      <th>PaymentScreenSuccessful</th>\n",
       "      <td>3539</td>\n",
       "      <td>47.0</td>\n",
       "    </tr>\n",
       "    <tr>\n",
       "      <th>Tutorial</th>\n",
       "      <td>840</td>\n",
       "      <td>11.0</td>\n",
       "    </tr>\n",
       "  </tbody>\n",
       "</table>\n",
       "</div>"
      ],
      "text/plain": [
       "                         user_id  percent\n",
       "event_name                               \n",
       "MainScreenAppear            7419     98.0\n",
       "OffersScreenAppear          4593     61.0\n",
       "CartScreenAppear            3734     49.0\n",
       "PaymentScreenSuccessful     3539     47.0\n",
       "Tutorial                     840     11.0"
      ]
     },
     "execution_count": 26,
     "metadata": {},
     "output_type": "execute_result"
    }
   ],
   "source": [
    "# Посчитаем долю пользователей, которые хоть раз совершали событие\n",
    "all_users = len(logs['user_id'].unique())\n",
    "user_and_event['percent'] = (user_and_event['user_id'] / all_users).round(2) * 100 \n",
    "user_and_event"
   ]
  },
  {
   "cell_type": "markdown",
   "metadata": {},
   "source": [
    "***На основе полученных данных можно отметить, что:***\n",
    "\n",
    "98% пользователей (7419 человек) совершали событие MainScreenAppear (были на главном экране).\n",
    "\n",
    "61% пользователей (4593 человек) совершали событие OffersScreenAppear (переходили в каталог/раздел предложений магазина).\n",
    "\n",
    "49% пользователей (3734 человек) совершали событие CartScreenAppear (переходили в корзину).\n",
    "\n",
    "47% пользователей (3539 человек) совершали событие PaymentScreenSuccessful (переходили на экран оплаты).\n",
    "\n",
    "11% пользователей (840 человек) совершали событие Tutorial (руководство/консультация/обучение)."
   ]
  },
  {
   "cell_type": "markdown",
   "metadata": {},
   "source": [
    "#### Предположите, в каком порядке происходят события. Все ли они выстраиваются в последовательную цепочку?"
   ]
  },
  {
   "cell_type": "markdown",
   "metadata": {},
   "source": [
    "Исходя из предыдущих исследований, мы можем увидеть определенную воронку. Скорее всего, пользователи сначала попадают на главный экран (MainScreenAppear), затем они переходят в раздел предложений/каталог (OffersScreenAppear), далее переходят в корзину (CartScreenAppear), потом переходят на экран оплаты (PaymentScreenSuccessful). \n",
    "\n",
    "Также, если пользователю это необходимо, он может перейти в раздел \"руководство/консультация/обучение\" (Tutorial). Думаю, что данное событие может происходить как в конце нашей воронки, так и, например, до покупки товара - все зависит от пользователя."
   ]
  },
  {
   "cell_type": "markdown",
   "metadata": {},
   "source": [
    "#### По воронке событий посчитайте, какая доля пользователей проходит на следующий шаг воронки (от числа пользователей на предыдущем)."
   ]
  },
  {
   "cell_type": "code",
   "execution_count": 27,
   "metadata": {},
   "outputs": [],
   "source": [
    "# Уберем tutorial из данных, так как до конца неизвестно, на каком этапе воронки находится это событие\n",
    "logs_without_tutorial = user_and_event.copy() \n",
    "logs_without_tutorial = logs_without_tutorial[:4]"
   ]
  },
  {
   "cell_type": "code",
   "execution_count": 28,
   "metadata": {},
   "outputs": [
    {
     "data": {
      "text/html": [
       "<div>\n",
       "<style scoped>\n",
       "    .dataframe tbody tr th:only-of-type {\n",
       "        vertical-align: middle;\n",
       "    }\n",
       "\n",
       "    .dataframe tbody tr th {\n",
       "        vertical-align: top;\n",
       "    }\n",
       "\n",
       "    .dataframe thead th {\n",
       "        text-align: right;\n",
       "    }\n",
       "</style>\n",
       "<table border=\"1\" class=\"dataframe\">\n",
       "  <thead>\n",
       "    <tr style=\"text-align: right;\">\n",
       "      <th></th>\n",
       "      <th>user_id</th>\n",
       "      <th>percent</th>\n",
       "    </tr>\n",
       "    <tr>\n",
       "      <th>event_name</th>\n",
       "      <th></th>\n",
       "      <th></th>\n",
       "    </tr>\n",
       "  </thead>\n",
       "  <tbody>\n",
       "    <tr>\n",
       "      <th>MainScreenAppear</th>\n",
       "      <td>7419</td>\n",
       "      <td>98.0</td>\n",
       "    </tr>\n",
       "    <tr>\n",
       "      <th>OffersScreenAppear</th>\n",
       "      <td>4593</td>\n",
       "      <td>61.0</td>\n",
       "    </tr>\n",
       "    <tr>\n",
       "      <th>CartScreenAppear</th>\n",
       "      <td>3734</td>\n",
       "      <td>49.0</td>\n",
       "    </tr>\n",
       "    <tr>\n",
       "      <th>PaymentScreenSuccessful</th>\n",
       "      <td>3539</td>\n",
       "      <td>47.0</td>\n",
       "    </tr>\n",
       "  </tbody>\n",
       "</table>\n",
       "</div>"
      ],
      "text/plain": [
       "                         user_id  percent\n",
       "event_name                               \n",
       "MainScreenAppear            7419     98.0\n",
       "OffersScreenAppear          4593     61.0\n",
       "CartScreenAppear            3734     49.0\n",
       "PaymentScreenSuccessful     3539     47.0"
      ]
     },
     "execution_count": 28,
     "metadata": {},
     "output_type": "execute_result"
    }
   ],
   "source": [
    "# Выведем таблицу без tutorial на экран\n",
    "logs_without_tutorial"
   ]
  },
  {
   "cell_type": "code",
   "execution_count": 29,
   "metadata": {},
   "outputs": [
    {
     "data": {
      "text/html": [
       "<div>\n",
       "<style scoped>\n",
       "    .dataframe tbody tr th:only-of-type {\n",
       "        vertical-align: middle;\n",
       "    }\n",
       "\n",
       "    .dataframe tbody tr th {\n",
       "        vertical-align: top;\n",
       "    }\n",
       "\n",
       "    .dataframe thead th {\n",
       "        text-align: right;\n",
       "    }\n",
       "</style>\n",
       "<table border=\"1\" class=\"dataframe\">\n",
       "  <thead>\n",
       "    <tr style=\"text-align: right;\">\n",
       "      <th></th>\n",
       "      <th>user_id</th>\n",
       "      <th>percent</th>\n",
       "      <th>share</th>\n",
       "    </tr>\n",
       "    <tr>\n",
       "      <th>event_name</th>\n",
       "      <th></th>\n",
       "      <th></th>\n",
       "      <th></th>\n",
       "    </tr>\n",
       "  </thead>\n",
       "  <tbody>\n",
       "    <tr>\n",
       "      <th>MainScreenAppear</th>\n",
       "      <td>7419</td>\n",
       "      <td>98.0</td>\n",
       "      <td>nan%</td>\n",
       "    </tr>\n",
       "    <tr>\n",
       "      <th>OffersScreenAppear</th>\n",
       "      <td>4593</td>\n",
       "      <td>61.0</td>\n",
       "      <td>61.91%</td>\n",
       "    </tr>\n",
       "    <tr>\n",
       "      <th>CartScreenAppear</th>\n",
       "      <td>3734</td>\n",
       "      <td>49.0</td>\n",
       "      <td>81.30%</td>\n",
       "    </tr>\n",
       "    <tr>\n",
       "      <th>PaymentScreenSuccessful</th>\n",
       "      <td>3539</td>\n",
       "      <td>47.0</td>\n",
       "      <td>94.78%</td>\n",
       "    </tr>\n",
       "  </tbody>\n",
       "</table>\n",
       "</div>"
      ],
      "text/plain": [
       "                         user_id  percent   share\n",
       "event_name                                       \n",
       "MainScreenAppear            7419     98.0    nan%\n",
       "OffersScreenAppear          4593     61.0  61.91%\n",
       "CartScreenAppear            3734     49.0  81.30%\n",
       "PaymentScreenSuccessful     3539     47.0  94.78%"
      ]
     },
     "execution_count": 29,
     "metadata": {},
     "output_type": "execute_result"
    }
   ],
   "source": [
    "logs_without_tutorial['share'] = logs_without_tutorial['user_id']/logs_without_tutorial['user_id'].shift(1)\n",
    "logs_without_tutorial['share'] = (logs_without_tutorial['share'] * 100).round(2).map('{0:.2f}%'.format)\n",
    "logs_without_tutorial"
   ]
  },
  {
   "cell_type": "markdown",
   "metadata": {},
   "source": [
    "***На основе полученных данных можно отметить, что:***\n",
    "\n",
    "На первом событии MainScreenAppear в воронке находятся 100% пользователей.\n",
    "\n",
    "На второе событие OffersScreenAppear переходит 61.91% пользователей от числа пользователей на событии MainScreenAppear.\n",
    "\n",
    "На третье событие CartScreenAppear переходит 81.3% пользователей от числа пользователей на событии OffersScreenAppear.\n",
    "\n",
    "На четвертое событие PaymentScreenSuccessful переходит 94.78% пользователей от числа пользователей на событии CartScreenAppear."
   ]
  },
  {
   "cell_type": "markdown",
   "metadata": {},
   "source": [
    "#### На каком шаге теряете больше всего пользователей?"
   ]
  },
  {
   "cell_type": "markdown",
   "metadata": {},
   "source": [
    "Исходя из предыдущего шага, можно понять, что самое большое количество пользователей теряется на главном экране (событие MainScreenAppear) - целых 38.09% пользователей не переходят далее. Стоит обратить внимание на главный экран, возможно стоит сделать его более удобным, функциональным или визуально привлекательным. Возможно, стоит как-то поработать над кнопкой перехода в раздел предложений/каталог, может быть эта кнопка не для всех заметна и т.д."
   ]
  },
  {
   "cell_type": "markdown",
   "metadata": {},
   "source": [
    "#### Какая доля пользователей доходит от первого события до оплаты?"
   ]
  },
  {
   "cell_type": "code",
   "execution_count": 30,
   "metadata": {},
   "outputs": [
    {
     "data": {
      "text/html": [
       "<div>\n",
       "<style scoped>\n",
       "    .dataframe tbody tr th:only-of-type {\n",
       "        vertical-align: middle;\n",
       "    }\n",
       "\n",
       "    .dataframe tbody tr th {\n",
       "        vertical-align: top;\n",
       "    }\n",
       "\n",
       "    .dataframe thead th {\n",
       "        text-align: right;\n",
       "    }\n",
       "</style>\n",
       "<table border=\"1\" class=\"dataframe\">\n",
       "  <thead>\n",
       "    <tr style=\"text-align: right;\">\n",
       "      <th></th>\n",
       "      <th>user_id</th>\n",
       "      <th>percent</th>\n",
       "      <th>share</th>\n",
       "    </tr>\n",
       "    <tr>\n",
       "      <th>event_name</th>\n",
       "      <th></th>\n",
       "      <th></th>\n",
       "      <th></th>\n",
       "    </tr>\n",
       "  </thead>\n",
       "  <tbody>\n",
       "    <tr>\n",
       "      <th>MainScreenAppear</th>\n",
       "      <td>7419</td>\n",
       "      <td>98.0</td>\n",
       "      <td>nan%</td>\n",
       "    </tr>\n",
       "    <tr>\n",
       "      <th>OffersScreenAppear</th>\n",
       "      <td>4593</td>\n",
       "      <td>61.0</td>\n",
       "      <td>61.91%</td>\n",
       "    </tr>\n",
       "    <tr>\n",
       "      <th>CartScreenAppear</th>\n",
       "      <td>3734</td>\n",
       "      <td>49.0</td>\n",
       "      <td>81.30%</td>\n",
       "    </tr>\n",
       "    <tr>\n",
       "      <th>PaymentScreenSuccessful</th>\n",
       "      <td>3539</td>\n",
       "      <td>47.0</td>\n",
       "      <td>94.78%</td>\n",
       "    </tr>\n",
       "  </tbody>\n",
       "</table>\n",
       "</div>"
      ],
      "text/plain": [
       "                         user_id  percent   share\n",
       "event_name                                       \n",
       "MainScreenAppear            7419     98.0    nan%\n",
       "OffersScreenAppear          4593     61.0  61.91%\n",
       "CartScreenAppear            3734     49.0  81.30%\n",
       "PaymentScreenSuccessful     3539     47.0  94.78%"
      ]
     },
     "execution_count": 30,
     "metadata": {},
     "output_type": "execute_result"
    }
   ],
   "source": [
    "# Еще раз выведем на экран таблицу\n",
    "logs_without_tutorial"
   ]
  },
  {
   "cell_type": "code",
   "execution_count": 31,
   "metadata": {},
   "outputs": [
    {
     "data": {
      "text/plain": [
       "47.70184661005526"
      ]
     },
     "execution_count": 31,
     "metadata": {},
     "output_type": "execute_result"
    }
   ],
   "source": [
    "# Найдем долю пользователей, которые доходят от MainScreenAppear до PaymentScreenSuccessful\n",
    "3539/7419*100"
   ]
  },
  {
   "cell_type": "markdown",
   "metadata": {},
   "source": [
    "***На основе полученных данных можно отметить, что:***\n",
    "\n",
    "47.7% пользователей доходит от первого события (MainScreenAppear) до оплаты (PaymentScreenSuccessful)."
   ]
  },
  {
   "cell_type": "markdown",
   "metadata": {},
   "source": [
    "#### Вывод"
   ]
  },
  {
   "cell_type": "markdown",
   "metadata": {},
   "source": [
    "Мы выяснили, что в логах есть следующие события: MainScreenAppear, OffersScreenAppear, CartScreenAppear, PaymentScreenSuccessful, Tutorial. Самое частое событие - MainScreenAppear (Появление главного экрана) случается 117328 раз. Самое редкое событие - Tutorial (Руководство/консультация/обучение), встречается всего 1005 раз.\n",
    "\n",
    "Самое большое количество пользователей (98%, 7419 человек) совершали событие MainScreenAppear. И всего 11% пользователей (840 человек) совершали событие Tutorial.\n",
    "\n",
    "Также мы предположили, что пользователи сначала попадают на главный экран (MainScreenAppear), затем они переходят в раздел предложений/каталог (OffersScreenAppear), далее переходят в корзину (CartScreenAppear), потом переходят на экран оплаты (PaymentScreenSuccessful). А вот переход в раздел \"руководство/консультация/обучение\" (Tutorial) может происходить как в конце нашей воронки, так и, например, до покупки товара - все зависит от пользователя. Поэтому мы убрали Тutorial из дальнейших исследований.\n",
    "\n",
    "Мы узнали, что из MainScreenAppear в OffersScreenAppear переходит 61.91% пользователей, из OffersScreenAppear в  CartScreenAppear переходит 81.3% пользователей, из CartScreenAppear в PaymentScreenSuccessful переходит 94.78% пользователей. Также мы поняли, что самое большое количество пользователей (38.09%) теряется при переходе из MainScreenAppear в OffersScreenAppear. \n",
    "\n",
    "Также мы узнали, что 47.7% пользователей доходит от первого события (MainScreenAppear) до оплаты (PaymentScreenSuccessful)."
   ]
  },
  {
   "cell_type": "markdown",
   "metadata": {},
   "source": [
    "### Изучение результатов эксперимента"
   ]
  },
  {
   "cell_type": "markdown",
   "metadata": {},
   "source": [
    "#### Сколько пользователей в каждой экспериментальной группе?"
   ]
  },
  {
   "cell_type": "code",
   "execution_count": 32,
   "metadata": {},
   "outputs": [
    {
     "data": {
      "text/html": [
       "<div>\n",
       "<style scoped>\n",
       "    .dataframe tbody tr th:only-of-type {\n",
       "        vertical-align: middle;\n",
       "    }\n",
       "\n",
       "    .dataframe tbody tr th {\n",
       "        vertical-align: top;\n",
       "    }\n",
       "\n",
       "    .dataframe thead th {\n",
       "        text-align: right;\n",
       "    }\n",
       "</style>\n",
       "<table border=\"1\" class=\"dataframe\">\n",
       "  <thead>\n",
       "    <tr style=\"text-align: right;\">\n",
       "      <th></th>\n",
       "      <th>user_id</th>\n",
       "    </tr>\n",
       "    <tr>\n",
       "      <th>exp_id</th>\n",
       "      <th></th>\n",
       "    </tr>\n",
       "  </thead>\n",
       "  <tbody>\n",
       "    <tr>\n",
       "      <th>246</th>\n",
       "      <td>2484</td>\n",
       "    </tr>\n",
       "    <tr>\n",
       "      <th>247</th>\n",
       "      <td>2513</td>\n",
       "    </tr>\n",
       "    <tr>\n",
       "      <th>248</th>\n",
       "      <td>2537</td>\n",
       "    </tr>\n",
       "  </tbody>\n",
       "</table>\n",
       "</div>"
      ],
      "text/plain": [
       "        user_id\n",
       "exp_id         \n",
       "246        2484\n",
       "247        2513\n",
       "248        2537"
      ]
     },
     "execution_count": 32,
     "metadata": {},
     "output_type": "execute_result"
    }
   ],
   "source": [
    "# Узнаем, сколько пользователей в каждой группе\n",
    "new_logs.groupby('exp_id')['user_id'].nunique().to_frame()"
   ]
  },
  {
   "cell_type": "markdown",
   "metadata": {},
   "source": [
    "***На основе полученных данных можно отметить, что:***\n",
    "\n",
    "В группе \"246\" (А, контрольная) число пользователей - 2484, в группе \"247\" (А, контрольная) число пользователей - 2513, в группе \"248\" (В, экспериментальная) - 2537 пользователей. Количество везде плюс-минус одинаковое."
   ]
  },
  {
   "cell_type": "markdown",
   "metadata": {},
   "source": [
    "#### Проверьте, находят ли статистические критерии разницу между выборками 246 и 247."
   ]
  },
  {
   "cell_type": "code",
   "execution_count": 33,
   "metadata": {},
   "outputs": [
    {
     "data": {
      "text/plain": [
       "0"
      ]
     },
     "execution_count": 33,
     "metadata": {},
     "output_type": "execute_result"
    }
   ],
   "source": [
    "# Проверим, встречаются ли одни и те же значения во всех трех группах\n",
    "len(np.intersect1d(logs.query('exp_id == 246')['user_id'].unique(), logs.query('exp_id == \"247\"')['user_id'].unique(), logs.query('exp_id == \"248\"')['user_id'].unique()))"
   ]
  },
  {
   "cell_type": "code",
   "execution_count": 34,
   "metadata": {},
   "outputs": [
    {
     "name": "stdout",
     "output_type": "stream",
     "text": [
      "Разница между группами 246 и 247 - 1.15%\n"
     ]
    }
   ],
   "source": [
    "# Найдем разницу между группами 246 и 247 \n",
    "group_246_a = new_logs.query('exp_id == 246').groupby('exp_id')['user_id'].nunique().reset_index()\n",
    "group_247_a = new_logs.query('exp_id == 247').groupby('exp_id')['user_id'].nunique().reset_index()\n",
    "difference = 1 - group_246_a.iloc[0]['user_id'] / group_247_a.iloc[0]['user_id']\n",
    "print('Разница между группами 246 и 247 - {:.2%}'.format(difference))"
   ]
  },
  {
   "cell_type": "markdown",
   "metadata": {},
   "source": [
    "***На основе полученных данных можно отметить, что:***\n",
    "\n",
    "Разница между выборками 246 и 247 составляет 1.15%, но в целом, думаю, это не так критично."
   ]
  },
  {
   "cell_type": "markdown",
   "metadata": {},
   "source": [
    "#### Выберите самое популярное событие. Посчитайте число пользователей, совершивших это событие в каждой из контрольных групп. Посчитайте долю пользователей, совершивших это событие. Проверьте, будет ли отличие между группами статистически достоверным. Проделайте то же самое для всех других событий (удобно обернуть проверку в отдельную функцию). Можно ли сказать, что разбиение на группы работает корректно?"
   ]
  },
  {
   "cell_type": "code",
   "execution_count": 35,
   "metadata": {},
   "outputs": [
    {
     "data": {
      "text/html": [
       "<div>\n",
       "<style scoped>\n",
       "    .dataframe tbody tr th:only-of-type {\n",
       "        vertical-align: middle;\n",
       "    }\n",
       "\n",
       "    .dataframe tbody tr th {\n",
       "        vertical-align: top;\n",
       "    }\n",
       "\n",
       "    .dataframe thead th {\n",
       "        text-align: right;\n",
       "    }\n",
       "</style>\n",
       "<table border=\"1\" class=\"dataframe\">\n",
       "  <thead>\n",
       "    <tr style=\"text-align: right;\">\n",
       "      <th>event_name</th>\n",
       "      <th>CartScreenAppear</th>\n",
       "      <th>MainScreenAppear</th>\n",
       "      <th>OffersScreenAppear</th>\n",
       "      <th>PaymentScreenSuccessful</th>\n",
       "      <th>Tutorial</th>\n",
       "    </tr>\n",
       "    <tr>\n",
       "      <th>exp_id</th>\n",
       "      <th></th>\n",
       "      <th></th>\n",
       "      <th></th>\n",
       "      <th></th>\n",
       "      <th></th>\n",
       "    </tr>\n",
       "  </thead>\n",
       "  <tbody>\n",
       "    <tr>\n",
       "      <th>246</th>\n",
       "      <td>1266</td>\n",
       "      <td>2450</td>\n",
       "      <td>1542</td>\n",
       "      <td>1200</td>\n",
       "      <td>278</td>\n",
       "    </tr>\n",
       "    <tr>\n",
       "      <th>247</th>\n",
       "      <td>1238</td>\n",
       "      <td>2476</td>\n",
       "      <td>1520</td>\n",
       "      <td>1158</td>\n",
       "      <td>283</td>\n",
       "    </tr>\n",
       "    <tr>\n",
       "      <th>248</th>\n",
       "      <td>1230</td>\n",
       "      <td>2493</td>\n",
       "      <td>1531</td>\n",
       "      <td>1181</td>\n",
       "      <td>279</td>\n",
       "    </tr>\n",
       "  </tbody>\n",
       "</table>\n",
       "</div>"
      ],
      "text/plain": [
       "event_name  CartScreenAppear  MainScreenAppear  OffersScreenAppear  \\\n",
       "exp_id                                                               \n",
       "246                     1266              2450                1542   \n",
       "247                     1238              2476                1520   \n",
       "248                     1230              2493                1531   \n",
       "\n",
       "event_name  PaymentScreenSuccessful  Tutorial  \n",
       "exp_id                                         \n",
       "246                            1200       278  \n",
       "247                            1158       283  \n",
       "248                            1181       279  "
      ]
     },
     "execution_count": 35,
     "metadata": {},
     "output_type": "execute_result"
    }
   ],
   "source": [
    "# Как мы узнали ранее, самое популярное событие - это MainScreenAppear (появление главного экрана)\n",
    "# Посмотрим на число пользователей, совершивших это событие в каждой из контрольных групп \n",
    "all_groups = new_logs.pivot_table(index='exp_id', columns='event_name', values='user_id', aggfunc='nunique')\n",
    "all_groups"
   ]
  },
  {
   "cell_type": "markdown",
   "metadata": {},
   "source": [
    "***Сформулируем гипотезы.***\n",
    "\n",
    "Нулевая: Доли пользователей, побывавших на этапе воронки, в обеих группах равны.\n",
    "\n",
    "Альтернативная: Доли пользователей, побывавших на этапе воронки, в обеих группах рахличаются."
   ]
  },
  {
   "cell_type": "code",
   "execution_count": 36,
   "metadata": {},
   "outputs": [],
   "source": [
    "# Проверка гипотезы о равенстве долей (Z_test)\n",
    "# Напишем функцию для проверки\n",
    "# Критический уровень статистической значимости\n",
    "alpha = .05 \n",
    "def z_test(dataframe, groups, alpha):\n",
    "    # Пользователи в каждой группе\n",
    "    users = [dataframe.query('exp_id == @group')['user_id'].nunique() for group in groups]\n",
    "    # Перебор экспериментальных групп по событиям и количество пользователей\n",
    "    for event in dataframe.event_name.unique():\n",
    "        events = [dataframe.query('exp_id == %d and event_name == \"%s\"' % (group, event))['user_id'].nunique() for group in groups]\n",
    "        # Пропорция успехов в первой группе:\n",
    "        p1 = events[0] / users[0] \n",
    "        # Пропорция успехов во второй группе:\n",
    "        p2 = events[1] / users[1] \n",
    "        # Пропорция успехов в комбинированном датасете:\n",
    "        p_combined = (events[0] + events[1]) / (users[0] + users[1]) \n",
    "        # Разница пропорций в датасетах\n",
    "        difference = p1 - p2 \n",
    "        # Считаем статистику в ст.отклонениях стандартного нормального распределения\n",
    "        z_value = difference / mth.sqrt(p_combined * (1 - p_combined) * (1 / users[0] + 1 / users[1]))\n",
    "        # Задаем стандартное нормальное распределение (среднее 0, ст.отклонение 1)\n",
    "        distr = st.norm(0, 1) \n",
    "        p_value = (1 - distr.cdf(abs(z_value))) * 2\n",
    "        print('Событие:', event)\n",
    "        print('p-значение: ', p_value)\n",
    "        if p_value < alpha:\n",
    "            print('Отвергаем нулевую гипотезу: между долями есть значимая разница')\n",
    "        else:\n",
    "            print('Не получилось отвергнуть нулевую гипотезу, нет оснований считать доли разными') "
   ]
  },
  {
   "cell_type": "code",
   "execution_count": 37,
   "metadata": {},
   "outputs": [
    {
     "name": "stdout",
     "output_type": "stream",
     "text": [
      "Событие: Tutorial\n",
      "p-значение:  0.9376996189257114\n",
      "Не получилось отвергнуть нулевую гипотезу, нет оснований считать доли разными\n",
      "Событие: MainScreenAppear\n",
      "p-значение:  0.7570597232046099\n",
      "Не получилось отвергнуть нулевую гипотезу, нет оснований считать доли разными\n",
      "Событие: OffersScreenAppear\n",
      "p-значение:  0.2480954578522181\n",
      "Не получилось отвергнуть нулевую гипотезу, нет оснований считать доли разными\n",
      "Событие: CartScreenAppear\n",
      "p-значение:  0.22883372237997213\n",
      "Не получилось отвергнуть нулевую гипотезу, нет оснований считать доли разными\n",
      "Событие: PaymentScreenSuccessful\n",
      "p-значение:  0.11456679313141849\n",
      "Не получилось отвергнуть нулевую гипотезу, нет оснований считать доли разными\n"
     ]
    }
   ],
   "source": [
    "# Проведем А/А тест и проверим отличие между контрольными группами 246 и 247\n",
    "z_test(new_logs, [246, 247], 0.05)"
   ]
  },
  {
   "cell_type": "markdown",
   "metadata": {},
   "source": [
    "***На основе полученных данных можно отметить, что:***\n",
    "\n",
    "Число пользователей, совершивших самое популярное событие MainScreenAppear в группе 246 составило 2450 человек, а в группе 247 - 2476 человек (в группе 248 - 2493 человека).\n",
    "\n",
    "Мы создали функцию для проверки гипотезы о равенстве доле, провели А/А тест и узнали, что оснований считать доли разными нет. То есть статистически значимых отличий между группами нет. Все работает корректно."
   ]
  },
  {
   "cell_type": "markdown",
   "metadata": {},
   "source": [
    "#### Аналогично поступите с группой с изменённым шрифтом. Сравните результаты с каждой из контрольных групп в отдельности по каждому событию. Сравните результаты с объединённой контрольной группой. Какие выводы из эксперимента можно сделать?"
   ]
  },
  {
   "cell_type": "code",
   "execution_count": 38,
   "metadata": {},
   "outputs": [
    {
     "name": "stdout",
     "output_type": "stream",
     "text": [
      "Событие: Tutorial\n",
      "p-значение:  0.8264294010087645\n",
      "Не получилось отвергнуть нулевую гипотезу, нет оснований считать доли разными\n",
      "Событие: MainScreenAppear\n",
      "p-значение:  0.2949721933554552\n",
      "Не получилось отвергнуть нулевую гипотезу, нет оснований считать доли разными\n",
      "Событие: OffersScreenAppear\n",
      "p-значение:  0.20836205402738917\n",
      "Не получилось отвергнуть нулевую гипотезу, нет оснований считать доли разными\n",
      "Событие: CartScreenAppear\n",
      "p-значение:  0.07842923237520116\n",
      "Не получилось отвергнуть нулевую гипотезу, нет оснований считать доли разными\n",
      "Событие: PaymentScreenSuccessful\n",
      "p-значение:  0.2122553275697796\n",
      "Не получилось отвергнуть нулевую гипотезу, нет оснований считать доли разными\n"
     ]
    }
   ],
   "source": [
    "# Проведем А/В тест и проверим отличие между контрольной группой 246 и экспериментальной группой 248\n",
    "z_test(new_logs, [246, 248], 0.05)"
   ]
  },
  {
   "cell_type": "code",
   "execution_count": 39,
   "metadata": {},
   "outputs": [
    {
     "name": "stdout",
     "output_type": "stream",
     "text": [
      "Событие: Tutorial\n",
      "p-значение:  0.765323922474501\n",
      "Не получилось отвергнуть нулевую гипотезу, нет оснований считать доли разными\n",
      "Событие: MainScreenAppear\n",
      "p-значение:  0.4587053616621515\n",
      "Не получилось отвергнуть нулевую гипотезу, нет оснований считать доли разными\n",
      "Событие: OffersScreenAppear\n",
      "p-значение:  0.9197817830592261\n",
      "Не получилось отвергнуть нулевую гипотезу, нет оснований считать доли разными\n",
      "Событие: CartScreenAppear\n",
      "p-значение:  0.5786197879539783\n",
      "Не получилось отвергнуть нулевую гипотезу, нет оснований считать доли разными\n",
      "Событие: PaymentScreenSuccessful\n",
      "p-значение:  0.7373415053803964\n",
      "Не получилось отвергнуть нулевую гипотезу, нет оснований считать доли разными\n"
     ]
    }
   ],
   "source": [
    "# Проведем А/В тест и проверим отличие между контрольной группой 247 и экспериментальной группой 248\n",
    "z_test(new_logs, [247, 248], 0.05)"
   ]
  },
  {
   "cell_type": "code",
   "execution_count": 40,
   "metadata": {},
   "outputs": [
    {
     "name": "stdout",
     "output_type": "stream",
     "text": [
      "Событие: Tutorial\n",
      "p-значение:  0.764862472531507\n",
      "Не получилось отвергнуть нулевую гипотезу, нет оснований считать доли разными\n",
      "Событие: MainScreenAppear\n",
      "p-значение:  0.29424526837179577\n",
      "Не получилось отвергнуть нулевую гипотезу, нет оснований считать доли разными\n",
      "Событие: OffersScreenAppear\n",
      "p-значение:  0.43425549655188256\n",
      "Не получилось отвергнуть нулевую гипотезу, нет оснований считать доли разными\n",
      "Событие: CartScreenAppear\n",
      "p-значение:  0.18175875284404386\n",
      "Не получилось отвергнуть нулевую гипотезу, нет оснований считать доли разными\n",
      "Событие: PaymentScreenSuccessful\n",
      "p-значение:  0.6004294282308704\n",
      "Не получилось отвергнуть нулевую гипотезу, нет оснований считать доли разными\n"
     ]
    }
   ],
   "source": [
    "# Проведем А/В тест и проверим отличие между объединённой контрольной группой и экспериментальной группой 248\n",
    "groups_246_and_247 = new_logs.copy()\n",
    "groups_246_and_247['exp_id'].replace({247: 246}, inplace=True)\n",
    "z_test(groups_246_and_247, [246, 248], 0.05)"
   ]
  },
  {
   "cell_type": "markdown",
   "metadata": {},
   "source": [
    "***На основе полученных данных можно отметить, что:***\n",
    "\n",
    "Мы провели А/В тест между группами 246 и 248, 247 и 248, 246+247 и 248 и узнали, что оснований считать доли разными нет. То есть статистически значимых отличий между группами нет. Соответственно, изменение шрифта не повлияло на пользователей."
   ]
  },
  {
   "cell_type": "markdown",
   "metadata": {},
   "source": [
    "#### Какой уровень значимости вы выбрали при проверке статистических гипотез выше? Посчитайте, сколько проверок статистических гипотез вы сделали. При уровне значимости 0.1 каждый десятый раз можно получать ложный результат. Какой уровень значимости стоит применить? Если вы хотите изменить его, проделайте предыдущие пункты и проверьте свои выводы."
   ]
  },
  {
   "cell_type": "markdown",
   "metadata": {},
   "source": [
    "При проверке статистических гипотез я выбрала уровень значимости 0.05. Было сделано 20 проверок (5 А/А тестов и 15 А/В тестов).\n",
    "При уровне значимости 0.1 лишь при проведении А/В теста между контрольной группой 246 и экспериментальной группой 248 в событии CartScreenAppear минимальное значение 0.078, в остальных случаях p-value больше и 0.1, и 0.05. \n"
   ]
  },
  {
   "cell_type": "code",
   "execution_count": 41,
   "metadata": {},
   "outputs": [
    {
     "data": {
      "text/plain": [
       "0.6415140775914581"
      ]
     },
     "execution_count": 41,
     "metadata": {},
     "output_type": "execute_result"
    }
   ],
   "source": [
    "# Оценим вероятность ошибки первого рода\n",
    "1-(1-0.05)**20"
   ]
  },
  {
   "cell_type": "markdown",
   "metadata": {},
   "source": [
    "***На основе полученных данных можно отметить, что:***\n",
    "    \n",
    "Полученная вероятность ошибки составляет 0.641 (64%), что больше уровня значимости в 0.05, следовательно, выбранный уровень значимости не подходит.\n",
    "\n",
    "Применим поправку Бонферрони: 0.05 / 20 = 0.0025. Скорректируем уровень значимости и проведем тесты еще раз и проверим выводы."
   ]
  },
  {
   "cell_type": "code",
   "execution_count": 42,
   "metadata": {},
   "outputs": [
    {
     "data": {
      "text/plain": [
       "0.04883012474683324"
      ]
     },
     "execution_count": 42,
     "metadata": {},
     "output_type": "execute_result"
    }
   ],
   "source": [
    "# Оценим вероятность ошибки для нового уровня значимости\n",
    "1-(1-0.0025)**20"
   ]
  },
  {
   "cell_type": "markdown",
   "metadata": {},
   "source": [
    "***На основе полученных данных можно отметить, что:***\n",
    "\n",
    "Полученная вероятность ошибки теперь составляет 0.048 (4%), что меньше уровня значимости в 0.0025, следовательно, выбранный уровень значимости теперь является оптимальным."
   ]
  },
  {
   "cell_type": "code",
   "execution_count": 43,
   "metadata": {},
   "outputs": [
    {
     "name": "stdout",
     "output_type": "stream",
     "text": [
      "Событие: Tutorial\n",
      "p-значение:  0.9376996189257114\n",
      "Не получилось отвергнуть нулевую гипотезу, нет оснований считать доли разными\n",
      "Событие: MainScreenAppear\n",
      "p-значение:  0.7570597232046099\n",
      "Не получилось отвергнуть нулевую гипотезу, нет оснований считать доли разными\n",
      "Событие: OffersScreenAppear\n",
      "p-значение:  0.2480954578522181\n",
      "Не получилось отвергнуть нулевую гипотезу, нет оснований считать доли разными\n",
      "Событие: CartScreenAppear\n",
      "p-значение:  0.22883372237997213\n",
      "Не получилось отвергнуть нулевую гипотезу, нет оснований считать доли разными\n",
      "Событие: PaymentScreenSuccessful\n",
      "p-значение:  0.11456679313141849\n",
      "Не получилось отвергнуть нулевую гипотезу, нет оснований считать доли разными\n"
     ]
    }
   ],
   "source": [
    "# После применения поправки Бонферрони еще раз проведем А/А тест и проверим отличие между контрольными группами 246 и 247\n",
    "z_test(new_logs, [246, 247], 0.0025)"
   ]
  },
  {
   "cell_type": "code",
   "execution_count": 44,
   "metadata": {},
   "outputs": [
    {
     "name": "stdout",
     "output_type": "stream",
     "text": [
      "Событие: Tutorial\n",
      "p-значение:  0.8264294010087645\n",
      "Не получилось отвергнуть нулевую гипотезу, нет оснований считать доли разными\n",
      "Событие: MainScreenAppear\n",
      "p-значение:  0.2949721933554552\n",
      "Не получилось отвергнуть нулевую гипотезу, нет оснований считать доли разными\n",
      "Событие: OffersScreenAppear\n",
      "p-значение:  0.20836205402738917\n",
      "Не получилось отвергнуть нулевую гипотезу, нет оснований считать доли разными\n",
      "Событие: CartScreenAppear\n",
      "p-значение:  0.07842923237520116\n",
      "Не получилось отвергнуть нулевую гипотезу, нет оснований считать доли разными\n",
      "Событие: PaymentScreenSuccessful\n",
      "p-значение:  0.2122553275697796\n",
      "Не получилось отвергнуть нулевую гипотезу, нет оснований считать доли разными\n"
     ]
    }
   ],
   "source": [
    "# После применения поправки Бонферрони еще раз проведем А/В тест и проверим отличие между контрольной группой 246 и экспериментальной группой 248\n",
    "z_test(new_logs, [246, 248], 0.0025)"
   ]
  },
  {
   "cell_type": "code",
   "execution_count": 45,
   "metadata": {},
   "outputs": [
    {
     "name": "stdout",
     "output_type": "stream",
     "text": [
      "Событие: Tutorial\n",
      "p-значение:  0.765323922474501\n",
      "Не получилось отвергнуть нулевую гипотезу, нет оснований считать доли разными\n",
      "Событие: MainScreenAppear\n",
      "p-значение:  0.4587053616621515\n",
      "Не получилось отвергнуть нулевую гипотезу, нет оснований считать доли разными\n",
      "Событие: OffersScreenAppear\n",
      "p-значение:  0.9197817830592261\n",
      "Не получилось отвергнуть нулевую гипотезу, нет оснований считать доли разными\n",
      "Событие: CartScreenAppear\n",
      "p-значение:  0.5786197879539783\n",
      "Не получилось отвергнуть нулевую гипотезу, нет оснований считать доли разными\n",
      "Событие: PaymentScreenSuccessful\n",
      "p-значение:  0.7373415053803964\n",
      "Не получилось отвергнуть нулевую гипотезу, нет оснований считать доли разными\n"
     ]
    }
   ],
   "source": [
    "# После применения поправки Бонферрони еще раз проведем А/В тест и проверим отличие между контрольной группой 247 и экспериментальной группой 248\n",
    "z_test(new_logs, [247, 248], 0.0025)"
   ]
  },
  {
   "cell_type": "code",
   "execution_count": 46,
   "metadata": {},
   "outputs": [
    {
     "name": "stdout",
     "output_type": "stream",
     "text": [
      "Событие: Tutorial\n",
      "p-значение:  0.764862472531507\n",
      "Не получилось отвергнуть нулевую гипотезу, нет оснований считать доли разными\n",
      "Событие: MainScreenAppear\n",
      "p-значение:  0.29424526837179577\n",
      "Не получилось отвергнуть нулевую гипотезу, нет оснований считать доли разными\n",
      "Событие: OffersScreenAppear\n",
      "p-значение:  0.43425549655188256\n",
      "Не получилось отвергнуть нулевую гипотезу, нет оснований считать доли разными\n",
      "Событие: CartScreenAppear\n",
      "p-значение:  0.18175875284404386\n",
      "Не получилось отвергнуть нулевую гипотезу, нет оснований считать доли разными\n",
      "Событие: PaymentScreenSuccessful\n",
      "p-значение:  0.6004294282308704\n",
      "Не получилось отвергнуть нулевую гипотезу, нет оснований считать доли разными\n"
     ]
    }
   ],
   "source": [
    "# После применения поправки Бонферрони еще раз проведем А/В тест и проверим отличие между объединённой контрольной группой и экспериментальной группой 248\n",
    "groups_246_and_247 = new_logs.copy()\n",
    "groups_246_and_247['exp_id'].replace({247: 246}, inplace=True)\n",
    "z_test(groups_246_and_247, [246, 248], 0.0025)"
   ]
  },
  {
   "cell_type": "markdown",
   "metadata": {},
   "source": [
    "***На основе полученных данных можно отметить, что:***\n",
    "\n",
    "После корректировки уровня значимости и выполнения проверки снова можно сделать вывод, что статистически значимой разницы между группами во всех тестах нет, значит смена шрифта никак не повлияла на пользователей."
   ]
  },
  {
   "cell_type": "markdown",
   "metadata": {},
   "source": [
    "### Вывод"
   ]
  },
  {
   "cell_type": "markdown",
   "metadata": {},
   "source": [
    "**-При изучении и проверке данных мы выяснили, что:**\n",
    "\n",
    "1.Таблица содержит 5 уникальных названий событий: MainScreenAppear (119101 событий), OffersScreenAppear (46808 событий), CartScreenAppear (42668 событий), PaymentScreenSuccessful (34118 событий), Tutorial (1018 событий). Всего в логе 243713 событий.\n",
    "\n",
    "2.В логе 7551 пользователь. В среднем, на пользователя приходится 32 события.\n",
    "\n",
    "3.На самом деле мы располагаем данными за период с 01.08.2019 по 07.08.2019 включительно. При очистке данных мы потеряли всего 2826 событий (1.16% от общего числа) и 17 пользователей (0.23%). \n",
    "\n",
    "4.Мы подтвердили, что у нас есть пользователи из всех трёх экспериментальных групп.\n",
    "\n",
    "**-При изучении воронки событий мы выяснили, что:** \n",
    "\n",
    "1.Самое частое событие - MainScreenAppear (Появление главного экрана) случается 117328 раз. Самое редкое событие, Tutorial (Руководство/консультация/обучение), встречается всего 1005 раз.\n",
    "\n",
    "2.Больше всего пользователей (98%, 7419 человек) совершали событие MainScreenAppear (были на главном экране). И всего 11% пользователей (840 человек) совершали событие Tutorial (руководство/консультация/обучение).\n",
    "\n",
    "3.Предположительная воронка выглядит так: 98% пользователей сначала попадают на главный экран (MainScreenAppear), затем 61.91% пользователей попадает в раздел предложений/каталог (OffersScreenAppear), далее 81.3% пользователей переходит в корзину (CartScreenAppear), потом 94.78% пользователей переходит на экран оплаты (PaymentScreenSuccessful). А событие \"руководство/консультация/обучение\" (Tutorial) может происходить как в конце нашей воронки, так и, например, до покупки товара - все зависит от пользователя.\n",
    "\n",
    "4.Самое большое количество пользователей (38.09%) теряется на главном экране (MainScreenAppear). И 47.7% пользователей доходит от первого события (MainScreenAppear) до оплаты (PaymentScreenSuccessful).\n",
    "\n",
    "**-При изучении результатов эксперимента мы выяснили, что:**\n",
    "\n",
    "1.В каждой группе плюс-минус одинаковое количество пользователей: в группе \"246\" (А) число пользователей - 2484, в \"247\" (А) - 2513, в \"248\" (В) - 2537. Разница между выборками 246 и 247 составляет 1.15%, что не так критично. \n",
    "\n",
    "2.Число пользователей, совершивших самое популярное событие MainScreenAppear в группе 246 составило 2450 человек, в группе 247 - 2476 человек (в группе 248 - 2493 человека).\n",
    "\n",
    "3.Были сформулированы гипотезы. Нулевая: Доли пользователей, побывавших на этапе воронки, в обеих группах равны. Альтернативная: Доли пользователей, побывавших на этапе воронки, в обеих группах различаются. Мы создали функцию для проверки гипотезы о равенстве доле, провели А/А тест и А/В тест и узнали, что оснований считать доли разными нет. То есть статистически значимых отличий между группами нет, значит смена шрифта никак не повлияла на пользователей. При проверке статистических гипотез я выбрала уровень значимости 0.05. Было сделано 20 проверок (5 А/А тестов и 15 А/В тестов). При применении поправки Бонферрони получился уровень значимости еще ниже, 0.0025. Мной была проведена провека еще раз и подкреплен вывод, что смена шрифта никак не повлияла на пользователей.\n",
    "\n",
    "**Исходя из проведенных исследований, стало понятно, что изменение шрифта никак не повлияло на пользователей. Возможно, команде стоит обратить внимание на следующие моменты: понять, почему на событии MainScreenAppear \"застревает\" целых 38.09% пользователей? Возможно, стоит внести доработки, сделать главный экран более визуально привлекательным и удобным для пользователей, возможно, стоит сделать кнопку перехода в каталог более заметной и т.д. Также нужно разобраться, почему не все пользователи, которые положили товары в корзину (CartScreenAppear), в итоге их оплатили (PaymentScreenSuccessful) - на этом этапе \"застревает\" 5.2% пользователей, возможно стоит сделать процесс оплаты покупок более удобным и т.д.**  "
   ]
  }
 ],
 "metadata": {
  "ExecuteTimeLog": [
   {
    "duration": 1462,
    "start_time": "2023-08-01T09:50:52.954Z"
   },
   {
    "duration": 633,
    "start_time": "2023-08-01T09:52:54.520Z"
   },
   {
    "duration": 15,
    "start_time": "2023-08-01T09:53:18.177Z"
   },
   {
    "duration": 291,
    "start_time": "2023-08-01T09:53:56.955Z"
   },
   {
    "duration": 7,
    "start_time": "2023-08-01T09:53:57.544Z"
   },
   {
    "duration": 9,
    "start_time": "2023-08-01T09:54:04.600Z"
   },
   {
    "duration": 153,
    "start_time": "2023-08-01T09:54:27.512Z"
   },
   {
    "duration": 9,
    "start_time": "2023-08-01T09:54:27.952Z"
   },
   {
    "duration": 19,
    "start_time": "2023-08-01T09:55:17.633Z"
   },
   {
    "duration": 14,
    "start_time": "2023-08-01T09:58:06.952Z"
   },
   {
    "duration": 6,
    "start_time": "2023-08-01T10:09:59.123Z"
   },
   {
    "duration": 67,
    "start_time": "2023-08-01T10:10:51.363Z"
   },
   {
    "duration": 8,
    "start_time": "2023-08-01T10:11:25.548Z"
   },
   {
    "duration": 12,
    "start_time": "2023-08-01T10:11:26.836Z"
   },
   {
    "duration": 65,
    "start_time": "2023-08-01T10:11:41.244Z"
   },
   {
    "duration": 75,
    "start_time": "2023-08-01T10:12:54.830Z"
   },
   {
    "duration": 121,
    "start_time": "2023-08-01T10:13:00.925Z"
   },
   {
    "duration": 2553,
    "start_time": "2023-08-01T10:24:19.840Z"
   },
   {
    "duration": 38,
    "start_time": "2023-08-01T10:24:35.526Z"
   },
   {
    "duration": 26,
    "start_time": "2023-08-01T10:26:40.154Z"
   },
   {
    "duration": 19,
    "start_time": "2023-08-01T10:26:54.314Z"
   },
   {
    "duration": 28,
    "start_time": "2023-08-01T10:26:58.625Z"
   },
   {
    "duration": 8,
    "start_time": "2023-08-01T10:28:43.443Z"
   },
   {
    "duration": 63,
    "start_time": "2023-08-01T10:31:35.420Z"
   },
   {
    "duration": 62,
    "start_time": "2023-08-01T10:31:42.484Z"
   },
   {
    "duration": 68,
    "start_time": "2023-08-01T10:31:51.580Z"
   },
   {
    "duration": 64,
    "start_time": "2023-08-01T10:32:04.596Z"
   },
   {
    "duration": 18,
    "start_time": "2023-08-01T10:39:55.729Z"
   },
   {
    "duration": 39,
    "start_time": "2023-08-01T10:42:01.786Z"
   },
   {
    "duration": 21,
    "start_time": "2023-08-01T10:42:20.570Z"
   },
   {
    "duration": 5,
    "start_time": "2023-08-01T10:47:21.652Z"
   },
   {
    "duration": 7,
    "start_time": "2023-08-01T10:47:44.237Z"
   },
   {
    "duration": 25,
    "start_time": "2023-08-01T10:51:26.900Z"
   },
   {
    "duration": 16,
    "start_time": "2023-08-01T10:51:32.920Z"
   },
   {
    "duration": 19,
    "start_time": "2023-08-01T10:53:28.266Z"
   },
   {
    "duration": 33,
    "start_time": "2023-08-01T10:56:27.092Z"
   },
   {
    "duration": 24,
    "start_time": "2023-08-01T10:56:58.661Z"
   },
   {
    "duration": 702,
    "start_time": "2023-08-01T11:07:55.724Z"
   },
   {
    "duration": 603,
    "start_time": "2023-08-01T11:08:09.389Z"
   },
   {
    "duration": 211,
    "start_time": "2023-08-01T11:08:30.636Z"
   },
   {
    "duration": 503,
    "start_time": "2023-08-01T11:08:39.916Z"
   },
   {
    "duration": 204,
    "start_time": "2023-08-01T11:08:55.644Z"
   },
   {
    "duration": 968,
    "start_time": "2023-08-01T11:09:15.817Z"
   },
   {
    "duration": 265,
    "start_time": "2023-08-01T11:09:25.127Z"
   },
   {
    "duration": 237,
    "start_time": "2023-08-01T11:10:35.061Z"
   },
   {
    "duration": 236,
    "start_time": "2023-08-01T11:10:53.913Z"
   },
   {
    "duration": 253,
    "start_time": "2023-08-01T11:10:59.998Z"
   },
   {
    "duration": 350,
    "start_time": "2023-08-01T11:11:21.316Z"
   },
   {
    "duration": 305,
    "start_time": "2023-08-01T11:11:32.239Z"
   },
   {
    "duration": 861,
    "start_time": "2023-08-01T11:11:40.388Z"
   },
   {
    "duration": 2599,
    "start_time": "2023-08-01T11:11:51.854Z"
   },
   {
    "duration": 242,
    "start_time": "2023-08-01T11:12:05.716Z"
   },
   {
    "duration": 727,
    "start_time": "2023-08-01T11:12:16.360Z"
   },
   {
    "duration": 458,
    "start_time": "2023-08-01T11:13:01.420Z"
   },
   {
    "duration": 188,
    "start_time": "2023-08-01T11:13:27.817Z"
   },
   {
    "duration": 326,
    "start_time": "2023-08-01T11:13:36.063Z"
   },
   {
    "duration": 1274,
    "start_time": "2023-08-01T11:13:46.559Z"
   },
   {
    "duration": 766,
    "start_time": "2023-08-01T11:15:37.961Z"
   },
   {
    "duration": 659,
    "start_time": "2023-08-01T11:15:56.041Z"
   },
   {
    "duration": 318,
    "start_time": "2023-08-01T11:16:02.161Z"
   },
   {
    "duration": 400,
    "start_time": "2023-08-01T11:16:13.321Z"
   },
   {
    "duration": 581,
    "start_time": "2023-08-01T11:16:23.322Z"
   },
   {
    "duration": 526,
    "start_time": "2023-08-01T11:26:00.822Z"
   },
   {
    "duration": 716,
    "start_time": "2023-08-01T11:27:44.165Z"
   },
   {
    "duration": 23,
    "start_time": "2023-08-01T11:28:19.469Z"
   },
   {
    "duration": 24,
    "start_time": "2023-08-01T11:28:49.046Z"
   },
   {
    "duration": 1172,
    "start_time": "2023-08-01T11:29:08.669Z"
   },
   {
    "duration": 154,
    "start_time": "2023-08-01T11:29:09.843Z"
   },
   {
    "duration": 13,
    "start_time": "2023-08-01T11:29:10.000Z"
   },
   {
    "duration": 45,
    "start_time": "2023-08-01T11:29:10.015Z"
   },
   {
    "duration": 9,
    "start_time": "2023-08-01T11:29:10.062Z"
   },
   {
    "duration": 29,
    "start_time": "2023-08-01T11:29:10.072Z"
   },
   {
    "duration": 64,
    "start_time": "2023-08-01T11:29:10.103Z"
   },
   {
    "duration": 132,
    "start_time": "2023-08-01T11:29:10.168Z"
   },
   {
    "duration": 43,
    "start_time": "2023-08-01T11:29:10.302Z"
   },
   {
    "duration": 7,
    "start_time": "2023-08-01T11:29:10.347Z"
   },
   {
    "duration": 88,
    "start_time": "2023-08-01T11:29:10.356Z"
   },
   {
    "duration": 24,
    "start_time": "2023-08-01T11:29:10.446Z"
   },
   {
    "duration": 32,
    "start_time": "2023-08-01T11:29:10.471Z"
   },
   {
    "duration": 11,
    "start_time": "2023-08-01T11:29:10.505Z"
   },
   {
    "duration": 30,
    "start_time": "2023-08-01T11:29:10.518Z"
   },
   {
    "duration": 19,
    "start_time": "2023-08-01T11:29:10.550Z"
   },
   {
    "duration": 29,
    "start_time": "2023-08-01T11:29:10.571Z"
   },
   {
    "duration": 30,
    "start_time": "2023-08-01T11:29:10.601Z"
   },
   {
    "duration": 539,
    "start_time": "2023-08-01T11:29:10.633Z"
   },
   {
    "duration": 688,
    "start_time": "2023-08-01T11:29:11.174Z"
   },
   {
    "duration": 49,
    "start_time": "2023-08-01T11:29:50.646Z"
   },
   {
    "duration": 1201,
    "start_time": "2023-08-01T11:30:00.403Z"
   },
   {
    "duration": 143,
    "start_time": "2023-08-01T11:30:01.606Z"
   },
   {
    "duration": 10,
    "start_time": "2023-08-01T11:30:01.750Z"
   },
   {
    "duration": 97,
    "start_time": "2023-08-01T11:30:01.762Z"
   },
   {
    "duration": 85,
    "start_time": "2023-08-01T11:30:01.861Z"
   },
   {
    "duration": 64,
    "start_time": "2023-08-01T11:30:01.948Z"
   },
   {
    "duration": 101,
    "start_time": "2023-08-01T11:30:02.014Z"
   },
   {
    "duration": 152,
    "start_time": "2023-08-01T11:30:02.117Z"
   },
   {
    "duration": 64,
    "start_time": "2023-08-01T11:30:02.271Z"
   },
   {
    "duration": 97,
    "start_time": "2023-08-01T11:30:02.338Z"
   },
   {
    "duration": 91,
    "start_time": "2023-08-01T11:30:02.437Z"
   },
   {
    "duration": 54,
    "start_time": "2023-08-01T11:30:02.529Z"
   },
   {
    "duration": 60,
    "start_time": "2023-08-01T11:30:02.585Z"
   },
   {
    "duration": 33,
    "start_time": "2023-08-01T11:30:02.647Z"
   },
   {
    "duration": 47,
    "start_time": "2023-08-01T11:30:02.681Z"
   },
   {
    "duration": 63,
    "start_time": "2023-08-01T11:30:02.730Z"
   },
   {
    "duration": 43,
    "start_time": "2023-08-01T11:30:02.794Z"
   },
   {
    "duration": 41,
    "start_time": "2023-08-01T11:30:02.839Z"
   },
   {
    "duration": 34,
    "start_time": "2023-08-01T11:30:02.881Z"
   },
   {
    "duration": 547,
    "start_time": "2023-08-01T11:30:02.916Z"
   },
   {
    "duration": 7,
    "start_time": "2023-08-01T11:30:03.465Z"
   },
   {
    "duration": 1105,
    "start_time": "2023-08-01T11:31:28.834Z"
   },
   {
    "duration": 143,
    "start_time": "2023-08-01T11:31:29.941Z"
   },
   {
    "duration": 10,
    "start_time": "2023-08-01T11:31:30.086Z"
   },
   {
    "duration": 45,
    "start_time": "2023-08-01T11:31:30.100Z"
   },
   {
    "duration": 16,
    "start_time": "2023-08-01T11:31:30.147Z"
   },
   {
    "duration": 47,
    "start_time": "2023-08-01T11:31:30.165Z"
   },
   {
    "duration": 103,
    "start_time": "2023-08-01T11:31:30.214Z"
   },
   {
    "duration": 123,
    "start_time": "2023-08-01T11:31:30.319Z"
   },
   {
    "duration": 56,
    "start_time": "2023-08-01T11:31:30.444Z"
   },
   {
    "duration": 17,
    "start_time": "2023-08-01T11:31:30.502Z"
   },
   {
    "duration": 117,
    "start_time": "2023-08-01T11:31:30.520Z"
   },
   {
    "duration": 51,
    "start_time": "2023-08-01T11:31:30.638Z"
   },
   {
    "duration": 70,
    "start_time": "2023-08-01T11:31:30.690Z"
   },
   {
    "duration": 69,
    "start_time": "2023-08-01T11:31:30.761Z"
   },
   {
    "duration": 47,
    "start_time": "2023-08-01T11:31:30.832Z"
   },
   {
    "duration": 84,
    "start_time": "2023-08-01T11:31:30.881Z"
   },
   {
    "duration": 62,
    "start_time": "2023-08-01T11:31:30.967Z"
   },
   {
    "duration": 584,
    "start_time": "2023-08-01T11:31:31.030Z"
   },
   {
    "duration": 801,
    "start_time": "2023-08-01T11:31:31.616Z"
   },
   {
    "duration": 4,
    "start_time": "2023-08-01T11:32:01.542Z"
   },
   {
    "duration": 150,
    "start_time": "2023-08-01T11:32:02.385Z"
   },
   {
    "duration": 1300,
    "start_time": "2023-08-01T11:32:09.225Z"
   },
   {
    "duration": 141,
    "start_time": "2023-08-01T11:32:10.527Z"
   },
   {
    "duration": 10,
    "start_time": "2023-08-01T11:32:10.669Z"
   },
   {
    "duration": 29,
    "start_time": "2023-08-01T11:32:10.680Z"
   },
   {
    "duration": 8,
    "start_time": "2023-08-01T11:32:10.711Z"
   },
   {
    "duration": 14,
    "start_time": "2023-08-01T11:32:10.721Z"
   },
   {
    "duration": 77,
    "start_time": "2023-08-01T11:32:10.737Z"
   },
   {
    "duration": 122,
    "start_time": "2023-08-01T11:32:10.816Z"
   },
   {
    "duration": 47,
    "start_time": "2023-08-01T11:32:10.939Z"
   },
   {
    "duration": 8,
    "start_time": "2023-08-01T11:32:10.999Z"
   },
   {
    "duration": 91,
    "start_time": "2023-08-01T11:32:11.009Z"
   },
   {
    "duration": 132,
    "start_time": "2023-08-01T11:32:11.102Z"
   },
   {
    "duration": 26,
    "start_time": "2023-08-01T11:32:11.235Z"
   },
   {
    "duration": 34,
    "start_time": "2023-08-01T11:32:11.263Z"
   },
   {
    "duration": 11,
    "start_time": "2023-08-01T11:32:11.299Z"
   },
   {
    "duration": 30,
    "start_time": "2023-08-01T11:32:11.311Z"
   },
   {
    "duration": 27,
    "start_time": "2023-08-01T11:32:11.342Z"
   },
   {
    "duration": 548,
    "start_time": "2023-08-01T11:32:11.371Z"
   },
   {
    "duration": 749,
    "start_time": "2023-08-01T11:32:11.920Z"
   },
   {
    "duration": 1197,
    "start_time": "2023-08-01T11:33:41.391Z"
   },
   {
    "duration": 156,
    "start_time": "2023-08-01T11:33:42.590Z"
   },
   {
    "duration": 10,
    "start_time": "2023-08-01T11:33:42.748Z"
   },
   {
    "duration": 68,
    "start_time": "2023-08-01T11:33:42.761Z"
   },
   {
    "duration": 23,
    "start_time": "2023-08-01T11:33:42.831Z"
   },
   {
    "duration": 76,
    "start_time": "2023-08-01T11:33:42.856Z"
   },
   {
    "duration": 80,
    "start_time": "2023-08-01T11:33:42.933Z"
   },
   {
    "duration": 140,
    "start_time": "2023-08-01T11:33:43.015Z"
   },
   {
    "duration": 63,
    "start_time": "2023-08-01T11:33:43.157Z"
   },
   {
    "duration": 8,
    "start_time": "2023-08-01T11:33:43.222Z"
   },
   {
    "duration": 80,
    "start_time": "2023-08-01T11:33:43.232Z"
   },
   {
    "duration": 17,
    "start_time": "2023-08-01T11:33:43.314Z"
   },
   {
    "duration": 20,
    "start_time": "2023-08-01T11:33:43.332Z"
   },
   {
    "duration": 35,
    "start_time": "2023-08-01T11:33:43.354Z"
   },
   {
    "duration": 12,
    "start_time": "2023-08-01T11:33:43.391Z"
   },
   {
    "duration": 29,
    "start_time": "2023-08-01T11:33:43.404Z"
   },
   {
    "duration": 28,
    "start_time": "2023-08-01T11:33:43.434Z"
   },
   {
    "duration": 550,
    "start_time": "2023-08-01T11:33:43.463Z"
   },
   {
    "duration": 3,
    "start_time": "2023-08-01T11:34:10.992Z"
   },
   {
    "duration": 155,
    "start_time": "2023-08-01T11:34:11.944Z"
   },
   {
    "duration": 6,
    "start_time": "2023-08-01T11:34:12.856Z"
   },
   {
    "duration": 26,
    "start_time": "2023-08-01T11:34:13.696Z"
   },
   {
    "duration": 9,
    "start_time": "2023-08-01T11:34:15.711Z"
   },
   {
    "duration": 27,
    "start_time": "2023-08-01T11:34:16.192Z"
   },
   {
    "duration": 63,
    "start_time": "2023-08-01T11:34:16.688Z"
   },
   {
    "duration": 102,
    "start_time": "2023-08-01T11:34:16.968Z"
   },
   {
    "duration": 55,
    "start_time": "2023-08-01T11:34:17.167Z"
   },
   {
    "duration": 8,
    "start_time": "2023-08-01T11:34:17.375Z"
   },
   {
    "duration": 57,
    "start_time": "2023-08-01T11:34:17.840Z"
   },
   {
    "duration": 17,
    "start_time": "2023-08-01T11:34:20.953Z"
   },
   {
    "duration": 11,
    "start_time": "2023-08-01T11:34:21.368Z"
   },
   {
    "duration": 18,
    "start_time": "2023-08-01T11:34:21.848Z"
   },
   {
    "duration": 5,
    "start_time": "2023-08-01T11:34:23.936Z"
   },
   {
    "duration": 18,
    "start_time": "2023-08-01T11:34:25.551Z"
   },
   {
    "duration": 25,
    "start_time": "2023-08-01T11:34:27.375Z"
   },
   {
    "duration": 1227,
    "start_time": "2023-08-01T11:35:13.585Z"
   },
   {
    "duration": 149,
    "start_time": "2023-08-01T11:35:14.814Z"
   },
   {
    "duration": 11,
    "start_time": "2023-08-01T11:35:14.965Z"
   },
   {
    "duration": 36,
    "start_time": "2023-08-01T11:35:14.978Z"
   },
   {
    "duration": 26,
    "start_time": "2023-08-01T11:35:15.016Z"
   },
   {
    "duration": 34,
    "start_time": "2023-08-01T11:35:15.043Z"
   },
   {
    "duration": 65,
    "start_time": "2023-08-01T11:35:15.078Z"
   },
   {
    "duration": 124,
    "start_time": "2023-08-01T11:35:15.145Z"
   },
   {
    "duration": 7,
    "start_time": "2023-08-01T11:35:15.271Z"
   },
   {
    "duration": 143,
    "start_time": "2023-08-01T11:35:15.280Z"
   },
   {
    "duration": 0,
    "start_time": "2023-08-01T11:35:15.425Z"
   },
   {
    "duration": 0,
    "start_time": "2023-08-01T11:35:15.426Z"
   },
   {
    "duration": 0,
    "start_time": "2023-08-01T11:35:15.427Z"
   },
   {
    "duration": 0,
    "start_time": "2023-08-01T11:35:15.427Z"
   },
   {
    "duration": 0,
    "start_time": "2023-08-01T11:35:15.428Z"
   },
   {
    "duration": 0,
    "start_time": "2023-08-01T11:35:15.430Z"
   },
   {
    "duration": 0,
    "start_time": "2023-08-01T11:35:15.430Z"
   },
   {
    "duration": 55,
    "start_time": "2023-08-01T11:37:20.716Z"
   },
   {
    "duration": 57,
    "start_time": "2023-08-01T11:37:47.833Z"
   },
   {
    "duration": 7,
    "start_time": "2023-08-01T11:37:53.658Z"
   },
   {
    "duration": 1375,
    "start_time": "2023-08-01T11:38:09.585Z"
   },
   {
    "duration": 163,
    "start_time": "2023-08-01T11:38:10.962Z"
   },
   {
    "duration": 13,
    "start_time": "2023-08-01T11:38:11.127Z"
   },
   {
    "duration": 29,
    "start_time": "2023-08-01T11:38:11.142Z"
   },
   {
    "duration": 9,
    "start_time": "2023-08-01T11:38:11.173Z"
   },
   {
    "duration": 32,
    "start_time": "2023-08-01T11:38:11.184Z"
   },
   {
    "duration": 70,
    "start_time": "2023-08-01T11:38:11.218Z"
   },
   {
    "duration": 76,
    "start_time": "2023-08-01T11:38:11.289Z"
   },
   {
    "duration": 71,
    "start_time": "2023-08-01T11:38:11.366Z"
   },
   {
    "duration": 7,
    "start_time": "2023-08-01T11:38:11.440Z"
   },
   {
    "duration": 102,
    "start_time": "2023-08-01T11:38:11.448Z"
   },
   {
    "duration": 21,
    "start_time": "2023-08-01T11:38:11.552Z"
   },
   {
    "duration": 27,
    "start_time": "2023-08-01T11:38:11.575Z"
   },
   {
    "duration": 57,
    "start_time": "2023-08-01T11:38:11.603Z"
   },
   {
    "duration": 27,
    "start_time": "2023-08-01T11:38:11.661Z"
   },
   {
    "duration": 58,
    "start_time": "2023-08-01T11:38:11.690Z"
   },
   {
    "duration": 27,
    "start_time": "2023-08-01T11:38:11.749Z"
   },
   {
    "duration": 584,
    "start_time": "2023-08-01T11:38:11.779Z"
   },
   {
    "duration": 166,
    "start_time": "2023-08-01T11:38:40.186Z"
   },
   {
    "duration": 3,
    "start_time": "2023-08-01T11:38:53.954Z"
   },
   {
    "duration": 147,
    "start_time": "2023-08-01T11:38:55.162Z"
   },
   {
    "duration": 8,
    "start_time": "2023-08-01T11:38:55.922Z"
   },
   {
    "duration": 31,
    "start_time": "2023-08-01T11:38:56.626Z"
   },
   {
    "duration": 6,
    "start_time": "2023-08-01T11:38:59.066Z"
   },
   {
    "duration": 14,
    "start_time": "2023-08-01T11:38:59.834Z"
   },
   {
    "duration": 80,
    "start_time": "2023-08-01T11:39:04.134Z"
   },
   {
    "duration": 167,
    "start_time": "2023-08-01T11:39:04.802Z"
   },
   {
    "duration": 49,
    "start_time": "2023-08-01T11:39:24.434Z"
   },
   {
    "duration": 139,
    "start_time": "2023-08-01T11:39:42.978Z"
   },
   {
    "duration": 1376,
    "start_time": "2023-08-01T11:39:49.758Z"
   },
   {
    "duration": 155,
    "start_time": "2023-08-01T11:39:51.136Z"
   },
   {
    "duration": 14,
    "start_time": "2023-08-01T11:39:51.292Z"
   },
   {
    "duration": 33,
    "start_time": "2023-08-01T11:39:51.309Z"
   },
   {
    "duration": 9,
    "start_time": "2023-08-01T11:39:51.344Z"
   },
   {
    "duration": 32,
    "start_time": "2023-08-01T11:39:51.355Z"
   },
   {
    "duration": 111,
    "start_time": "2023-08-01T11:39:51.389Z"
   },
   {
    "duration": 171,
    "start_time": "2023-08-01T11:39:51.502Z"
   },
   {
    "duration": 56,
    "start_time": "2023-08-01T11:39:51.675Z"
   },
   {
    "duration": 20,
    "start_time": "2023-08-01T11:39:51.734Z"
   },
   {
    "duration": 148,
    "start_time": "2023-08-01T11:39:51.756Z"
   },
   {
    "duration": 27,
    "start_time": "2023-08-01T11:39:51.906Z"
   },
   {
    "duration": 57,
    "start_time": "2023-08-01T11:39:51.935Z"
   },
   {
    "duration": 34,
    "start_time": "2023-08-01T11:39:51.994Z"
   },
   {
    "duration": 15,
    "start_time": "2023-08-01T11:39:52.031Z"
   },
   {
    "duration": 51,
    "start_time": "2023-08-01T11:39:52.048Z"
   },
   {
    "duration": 55,
    "start_time": "2023-08-01T11:39:52.101Z"
   },
   {
    "duration": 590,
    "start_time": "2023-08-01T11:39:52.158Z"
   },
   {
    "duration": 3,
    "start_time": "2023-08-01T11:41:59.261Z"
   },
   {
    "duration": 1439,
    "start_time": "2023-08-01T11:42:04.932Z"
   },
   {
    "duration": 219,
    "start_time": "2023-08-01T11:42:06.372Z"
   },
   {
    "duration": 17,
    "start_time": "2023-08-01T11:42:06.592Z"
   },
   {
    "duration": 28,
    "start_time": "2023-08-01T11:42:06.611Z"
   },
   {
    "duration": 8,
    "start_time": "2023-08-01T11:42:06.641Z"
   },
   {
    "duration": 39,
    "start_time": "2023-08-01T11:42:06.650Z"
   },
   {
    "duration": 93,
    "start_time": "2023-08-01T11:42:06.691Z"
   },
   {
    "duration": 141,
    "start_time": "2023-08-01T11:42:06.786Z"
   },
   {
    "duration": 56,
    "start_time": "2023-08-01T11:42:06.929Z"
   },
   {
    "duration": 9,
    "start_time": "2023-08-01T11:42:07.001Z"
   },
   {
    "duration": 106,
    "start_time": "2023-08-01T11:42:07.012Z"
   },
   {
    "duration": 40,
    "start_time": "2023-08-01T11:42:07.119Z"
   },
   {
    "duration": 35,
    "start_time": "2023-08-01T11:42:07.161Z"
   },
   {
    "duration": 50,
    "start_time": "2023-08-01T11:42:07.198Z"
   },
   {
    "duration": 21,
    "start_time": "2023-08-01T11:42:07.250Z"
   },
   {
    "duration": 42,
    "start_time": "2023-08-01T11:42:07.272Z"
   },
   {
    "duration": 36,
    "start_time": "2023-08-01T11:42:07.315Z"
   },
   {
    "duration": 571,
    "start_time": "2023-08-01T11:42:07.354Z"
   },
   {
    "duration": 1216,
    "start_time": "2023-08-01T11:43:49.440Z"
   },
   {
    "duration": 180,
    "start_time": "2023-08-01T11:43:50.659Z"
   },
   {
    "duration": 13,
    "start_time": "2023-08-01T11:43:50.840Z"
   },
   {
    "duration": 27,
    "start_time": "2023-08-01T11:43:50.855Z"
   },
   {
    "duration": 8,
    "start_time": "2023-08-01T11:43:50.899Z"
   },
   {
    "duration": 35,
    "start_time": "2023-08-01T11:43:50.908Z"
   },
   {
    "duration": 72,
    "start_time": "2023-08-01T11:43:50.944Z"
   },
   {
    "duration": 132,
    "start_time": "2023-08-01T11:43:51.020Z"
   },
   {
    "duration": 28,
    "start_time": "2023-08-01T11:43:51.154Z"
   },
   {
    "duration": 26,
    "start_time": "2023-08-01T11:43:51.185Z"
   },
   {
    "duration": 100,
    "start_time": "2023-08-01T11:43:51.213Z"
   },
   {
    "duration": 29,
    "start_time": "2023-08-01T11:43:51.316Z"
   },
   {
    "duration": 31,
    "start_time": "2023-08-01T11:43:51.346Z"
   },
   {
    "duration": 49,
    "start_time": "2023-08-01T11:43:51.379Z"
   },
   {
    "duration": 37,
    "start_time": "2023-08-01T11:43:51.430Z"
   },
   {
    "duration": 42,
    "start_time": "2023-08-01T11:43:51.469Z"
   },
   {
    "duration": 35,
    "start_time": "2023-08-01T11:43:51.513Z"
   },
   {
    "duration": 582,
    "start_time": "2023-08-01T11:43:51.551Z"
   },
   {
    "duration": 696,
    "start_time": "2023-08-01T11:46:10.159Z"
   },
   {
    "duration": 1632,
    "start_time": "2023-08-01T11:46:24.767Z"
   },
   {
    "duration": 42,
    "start_time": "2023-08-01T11:46:47.598Z"
   },
   {
    "duration": 579,
    "start_time": "2023-08-01T11:47:18.018Z"
   },
   {
    "duration": 34,
    "start_time": "2023-08-01T11:47:54.472Z"
   },
   {
    "duration": 547,
    "start_time": "2023-08-01T11:48:06.423Z"
   },
   {
    "duration": 41,
    "start_time": "2023-08-01T11:53:10.577Z"
   },
   {
    "duration": 13,
    "start_time": "2023-08-01T11:53:27.526Z"
   },
   {
    "duration": 15,
    "start_time": "2023-08-01T11:53:38.498Z"
   },
   {
    "duration": 10,
    "start_time": "2023-08-01T11:54:25.212Z"
   },
   {
    "duration": 11,
    "start_time": "2023-08-01T11:54:28.658Z"
   },
   {
    "duration": 17,
    "start_time": "2023-08-01T11:54:43.420Z"
   },
   {
    "duration": 11,
    "start_time": "2023-08-01T11:55:08.903Z"
   },
   {
    "duration": 10,
    "start_time": "2023-08-01T11:55:18.490Z"
   },
   {
    "duration": 200,
    "start_time": "2023-08-01T11:57:01.252Z"
   },
   {
    "duration": 64,
    "start_time": "2023-08-01T11:57:26.068Z"
   },
   {
    "duration": 59,
    "start_time": "2023-08-01T11:57:37.660Z"
   },
   {
    "duration": 9,
    "start_time": "2023-08-01T11:57:53.764Z"
   },
   {
    "duration": 13,
    "start_time": "2023-08-01T11:57:58.172Z"
   },
   {
    "duration": 17,
    "start_time": "2023-08-01T11:58:25.045Z"
   },
   {
    "duration": 86,
    "start_time": "2023-08-01T11:58:39.276Z"
   },
   {
    "duration": 23,
    "start_time": "2023-08-01T11:58:43.713Z"
   },
   {
    "duration": 17,
    "start_time": "2023-08-01T12:00:51.462Z"
   },
   {
    "duration": 18,
    "start_time": "2023-08-01T12:00:56.910Z"
   },
   {
    "duration": 6,
    "start_time": "2023-08-01T12:01:23.398Z"
   },
   {
    "duration": 7,
    "start_time": "2023-08-01T12:01:45.671Z"
   },
   {
    "duration": 12,
    "start_time": "2023-08-01T12:02:35.551Z"
   },
   {
    "duration": 6,
    "start_time": "2023-08-01T12:02:54.816Z"
   },
   {
    "duration": 7,
    "start_time": "2023-08-01T12:03:35.656Z"
   },
   {
    "duration": 4,
    "start_time": "2023-08-01T12:03:47.505Z"
   },
   {
    "duration": 3,
    "start_time": "2023-08-01T12:04:00.649Z"
   },
   {
    "duration": 17,
    "start_time": "2023-08-01T12:07:02.810Z"
   },
   {
    "duration": 4,
    "start_time": "2023-08-01T12:08:05.090Z"
   },
   {
    "duration": 4,
    "start_time": "2023-08-01T12:08:21.442Z"
   },
   {
    "duration": 6,
    "start_time": "2023-08-01T12:09:14.892Z"
   },
   {
    "duration": 13,
    "start_time": "2023-08-01T12:11:09.148Z"
   },
   {
    "duration": 25,
    "start_time": "2023-08-01T12:11:29.981Z"
   },
   {
    "duration": 7,
    "start_time": "2023-08-01T12:11:44.684Z"
   },
   {
    "duration": 21,
    "start_time": "2023-08-01T12:11:56.732Z"
   },
   {
    "duration": 31,
    "start_time": "2023-08-01T12:15:19.927Z"
   },
   {
    "duration": 35,
    "start_time": "2023-08-01T13:19:52.534Z"
   },
   {
    "duration": 24,
    "start_time": "2023-08-01T13:20:44.741Z"
   },
   {
    "duration": 19,
    "start_time": "2023-08-01T13:22:02.792Z"
   },
   {
    "duration": 23,
    "start_time": "2023-08-01T13:37:56.377Z"
   },
   {
    "duration": 27,
    "start_time": "2023-08-01T13:38:05.201Z"
   },
   {
    "duration": 22,
    "start_time": "2023-08-01T13:38:23.177Z"
   },
   {
    "duration": 19,
    "start_time": "2023-08-01T13:38:36.378Z"
   },
   {
    "duration": 45,
    "start_time": "2023-08-01T13:40:56.272Z"
   },
   {
    "duration": 42,
    "start_time": "2023-08-01T13:43:45.168Z"
   },
   {
    "duration": 48,
    "start_time": "2023-08-01T13:43:54.186Z"
   },
   {
    "duration": 3586,
    "start_time": "2023-08-01T13:44:42.108Z"
   },
   {
    "duration": 3192,
    "start_time": "2023-08-01T13:46:53.511Z"
   },
   {
    "duration": 50,
    "start_time": "2023-08-01T13:48:05.348Z"
   },
   {
    "duration": 10,
    "start_time": "2023-08-01T13:48:35.015Z"
   },
   {
    "duration": 11,
    "start_time": "2023-08-01T13:49:15.569Z"
   },
   {
    "duration": 10,
    "start_time": "2023-08-01T13:49:28.487Z"
   },
   {
    "duration": 47,
    "start_time": "2023-08-01T13:49:33.148Z"
   },
   {
    "duration": 9,
    "start_time": "2023-08-01T13:49:33.879Z"
   },
   {
    "duration": 10,
    "start_time": "2023-08-01T14:25:04.621Z"
   },
   {
    "duration": 18,
    "start_time": "2023-08-01T14:25:26.165Z"
   },
   {
    "duration": 12,
    "start_time": "2023-08-01T14:27:12.422Z"
   },
   {
    "duration": 9,
    "start_time": "2023-08-01T14:27:24.671Z"
   },
   {
    "duration": 7,
    "start_time": "2023-08-01T14:29:29.415Z"
   },
   {
    "duration": 8,
    "start_time": "2023-08-01T14:33:44.786Z"
   },
   {
    "duration": 189,
    "start_time": "2023-08-01T14:35:09.818Z"
   },
   {
    "duration": 11,
    "start_time": "2023-08-01T14:35:14.148Z"
   },
   {
    "duration": 11,
    "start_time": "2023-08-01T14:35:26.827Z"
   },
   {
    "duration": 12,
    "start_time": "2023-08-01T14:35:45.251Z"
   },
   {
    "duration": 14,
    "start_time": "2023-08-01T14:35:49.907Z"
   },
   {
    "duration": 2,
    "start_time": "2023-08-01T14:36:31.181Z"
   },
   {
    "duration": 8,
    "start_time": "2023-08-01T14:36:36.771Z"
   },
   {
    "duration": 7,
    "start_time": "2023-08-01T14:37:39.545Z"
   },
   {
    "duration": 2690,
    "start_time": "2023-08-01T14:38:20.469Z"
   },
   {
    "duration": 11,
    "start_time": "2023-08-01T14:42:33.759Z"
   },
   {
    "duration": 2048,
    "start_time": "2023-08-01T14:44:21.489Z"
   },
   {
    "duration": 4362,
    "start_time": "2023-08-01T14:45:08.034Z"
   },
   {
    "duration": 2976,
    "start_time": "2023-08-01T14:45:20.994Z"
   },
   {
    "duration": 3469,
    "start_time": "2023-08-01T14:47:40.015Z"
   },
   {
    "duration": 1292,
    "start_time": "2023-08-01T14:48:17.732Z"
   },
   {
    "duration": 158,
    "start_time": "2023-08-01T14:48:19.026Z"
   },
   {
    "duration": 14,
    "start_time": "2023-08-01T14:48:19.186Z"
   },
   {
    "duration": 30,
    "start_time": "2023-08-01T14:48:19.203Z"
   },
   {
    "duration": 8,
    "start_time": "2023-08-01T14:48:19.236Z"
   },
   {
    "duration": 15,
    "start_time": "2023-08-01T14:48:19.245Z"
   },
   {
    "duration": 85,
    "start_time": "2023-08-01T14:48:19.261Z"
   },
   {
    "duration": 136,
    "start_time": "2023-08-01T14:48:19.348Z"
   },
   {
    "duration": 38,
    "start_time": "2023-08-01T14:48:19.485Z"
   },
   {
    "duration": 8,
    "start_time": "2023-08-01T14:48:19.525Z"
   },
   {
    "duration": 87,
    "start_time": "2023-08-01T14:48:19.534Z"
   },
   {
    "duration": 36,
    "start_time": "2023-08-01T14:48:19.622Z"
   },
   {
    "duration": 11,
    "start_time": "2023-08-01T14:48:19.660Z"
   },
   {
    "duration": 24,
    "start_time": "2023-08-01T14:48:19.674Z"
   },
   {
    "duration": 54,
    "start_time": "2023-08-01T14:48:19.699Z"
   },
   {
    "duration": 26,
    "start_time": "2023-08-01T14:48:19.754Z"
   },
   {
    "duration": 40,
    "start_time": "2023-08-01T14:48:19.782Z"
   },
   {
    "duration": 612,
    "start_time": "2023-08-01T14:48:19.823Z"
   },
   {
    "duration": 34,
    "start_time": "2023-08-01T14:48:20.437Z"
   },
   {
    "duration": 524,
    "start_time": "2023-08-01T14:48:20.473Z"
   },
   {
    "duration": 11,
    "start_time": "2023-08-01T14:48:20.999Z"
   },
   {
    "duration": 36,
    "start_time": "2023-08-01T14:48:21.012Z"
   },
   {
    "duration": 30,
    "start_time": "2023-08-01T14:48:21.049Z"
   },
   {
    "duration": 39,
    "start_time": "2023-08-01T14:48:21.080Z"
   },
   {
    "duration": 61,
    "start_time": "2023-08-01T14:48:21.120Z"
   },
   {
    "duration": 18,
    "start_time": "2023-08-01T14:48:21.182Z"
   },
   {
    "duration": 10,
    "start_time": "2023-08-01T14:48:21.202Z"
   },
   {
    "duration": 24,
    "start_time": "2023-08-01T14:48:21.214Z"
   },
   {
    "duration": 8,
    "start_time": "2023-08-01T15:07:16.638Z"
   },
   {
    "duration": 186,
    "start_time": "2023-08-01T15:07:49.839Z"
   },
   {
    "duration": 2650,
    "start_time": "2023-08-01T15:08:09.904Z"
   },
   {
    "duration": 2192,
    "start_time": "2023-08-01T15:08:36.896Z"
   },
   {
    "duration": 2154,
    "start_time": "2023-08-01T15:08:55.672Z"
   },
   {
    "duration": 249,
    "start_time": "2023-08-01T15:09:31.218Z"
   },
   {
    "duration": 3,
    "start_time": "2023-08-01T15:23:08.518Z"
   },
   {
    "duration": 30,
    "start_time": "2023-08-01T15:46:53.405Z"
   },
   {
    "duration": 1310,
    "start_time": "2023-08-01T18:23:41.968Z"
   },
   {
    "duration": 605,
    "start_time": "2023-08-01T18:23:43.280Z"
   },
   {
    "duration": 11,
    "start_time": "2023-08-01T18:23:43.886Z"
   },
   {
    "duration": 18,
    "start_time": "2023-08-01T18:23:43.898Z"
   },
   {
    "duration": 8,
    "start_time": "2023-08-01T18:23:43.918Z"
   },
   {
    "duration": 16,
    "start_time": "2023-08-01T18:23:43.928Z"
   },
   {
    "duration": 80,
    "start_time": "2023-08-01T18:23:43.945Z"
   },
   {
    "duration": 126,
    "start_time": "2023-08-01T18:23:44.026Z"
   },
   {
    "duration": 20,
    "start_time": "2023-08-01T18:23:44.154Z"
   },
   {
    "duration": 7,
    "start_time": "2023-08-01T18:23:44.176Z"
   },
   {
    "duration": 73,
    "start_time": "2023-08-01T18:23:44.185Z"
   },
   {
    "duration": 18,
    "start_time": "2023-08-01T18:23:44.260Z"
   },
   {
    "duration": 28,
    "start_time": "2023-08-01T18:23:44.280Z"
   },
   {
    "duration": 21,
    "start_time": "2023-08-01T18:23:44.309Z"
   },
   {
    "duration": 9,
    "start_time": "2023-08-01T18:23:44.331Z"
   },
   {
    "duration": 21,
    "start_time": "2023-08-01T18:23:44.341Z"
   },
   {
    "duration": 42,
    "start_time": "2023-08-01T18:23:44.364Z"
   },
   {
    "duration": 534,
    "start_time": "2023-08-01T18:23:44.408Z"
   },
   {
    "duration": 36,
    "start_time": "2023-08-01T18:23:44.944Z"
   },
   {
    "duration": 456,
    "start_time": "2023-08-01T18:23:44.982Z"
   },
   {
    "duration": 7,
    "start_time": "2023-08-01T18:23:45.440Z"
   },
   {
    "duration": 21,
    "start_time": "2023-08-01T18:23:45.448Z"
   },
   {
    "duration": 50,
    "start_time": "2023-08-01T18:23:45.470Z"
   },
   {
    "duration": 19,
    "start_time": "2023-08-01T18:23:45.522Z"
   },
   {
    "duration": 128,
    "start_time": "2023-08-01T18:23:45.542Z"
   },
   {
    "duration": 10,
    "start_time": "2023-08-01T18:23:45.671Z"
   },
   {
    "duration": 37,
    "start_time": "2023-08-01T18:23:45.683Z"
   },
   {
    "duration": 19,
    "start_time": "2023-08-01T18:23:45.722Z"
   },
   {
    "duration": 7,
    "start_time": "2023-08-01T18:23:45.743Z"
   },
   {
    "duration": 12,
    "start_time": "2023-08-01T18:23:45.752Z"
   },
   {
    "duration": 35,
    "start_time": "2023-08-01T18:23:45.766Z"
   },
   {
    "duration": 114,
    "start_time": "2023-08-01T18:23:45.803Z"
   },
   {
    "duration": 152,
    "start_time": "2023-08-01T18:42:16.156Z"
   },
   {
    "duration": 56,
    "start_time": "2023-08-01T18:43:03.735Z"
   },
   {
    "duration": 59,
    "start_time": "2023-08-01T18:43:16.183Z"
   },
   {
    "duration": 37,
    "start_time": "2023-08-01T18:44:55.488Z"
   },
   {
    "duration": 27,
    "start_time": "2023-08-01T18:45:08.929Z"
   },
   {
    "duration": 29,
    "start_time": "2023-08-01T18:53:24.492Z"
   },
   {
    "duration": 36,
    "start_time": "2023-08-01T18:54:04.292Z"
   },
   {
    "duration": 39,
    "start_time": "2023-08-01T18:54:23.288Z"
   },
   {
    "duration": 38,
    "start_time": "2023-08-01T18:56:16.345Z"
   },
   {
    "duration": 11,
    "start_time": "2023-08-01T18:56:17.445Z"
   },
   {
    "duration": 9,
    "start_time": "2023-08-01T18:57:30.460Z"
   },
   {
    "duration": 10,
    "start_time": "2023-08-01T19:01:06.656Z"
   },
   {
    "duration": 9,
    "start_time": "2023-08-01T19:01:14.148Z"
   },
   {
    "duration": 33,
    "start_time": "2023-08-01T19:03:03.457Z"
   },
   {
    "duration": 34,
    "start_time": "2023-08-01T19:03:32.461Z"
   },
   {
    "duration": 37,
    "start_time": "2023-08-01T19:03:49.996Z"
   },
   {
    "duration": 34,
    "start_time": "2023-08-01T19:04:04.986Z"
   },
   {
    "duration": 33,
    "start_time": "2023-08-01T19:04:36.969Z"
   },
   {
    "duration": 33,
    "start_time": "2023-08-01T19:04:56.598Z"
   },
   {
    "duration": 33,
    "start_time": "2023-08-01T19:07:17.352Z"
   },
   {
    "duration": 10,
    "start_time": "2023-08-01T19:07:19.216Z"
   },
   {
    "duration": 29,
    "start_time": "2023-08-01T19:07:38.852Z"
   },
   {
    "duration": 7,
    "start_time": "2023-08-01T19:07:39.395Z"
   },
   {
    "duration": 31,
    "start_time": "2023-08-01T19:15:18.957Z"
   },
   {
    "duration": 30,
    "start_time": "2023-08-01T19:19:16.617Z"
   },
   {
    "duration": 7,
    "start_time": "2023-08-01T19:19:28.853Z"
   },
   {
    "duration": 33,
    "start_time": "2023-08-01T19:19:50.862Z"
   },
   {
    "duration": 10,
    "start_time": "2023-08-01T19:19:53.746Z"
   },
   {
    "duration": 29,
    "start_time": "2023-08-01T19:22:23.370Z"
   },
   {
    "duration": 33,
    "start_time": "2023-08-01T19:22:33.684Z"
   },
   {
    "duration": 28,
    "start_time": "2023-08-01T19:22:40.390Z"
   },
   {
    "duration": 1238,
    "start_time": "2023-08-01T19:23:28.423Z"
   },
   {
    "duration": 1142,
    "start_time": "2023-08-01T19:23:41.084Z"
   },
   {
    "duration": 32,
    "start_time": "2023-08-01T19:24:42.358Z"
   },
   {
    "duration": 4,
    "start_time": "2023-08-01T19:25:21.210Z"
   },
   {
    "duration": 32,
    "start_time": "2023-08-01T19:27:01.610Z"
   },
   {
    "duration": 4,
    "start_time": "2023-08-01T19:27:41.542Z"
   },
   {
    "duration": 4,
    "start_time": "2023-08-01T19:27:53.623Z"
   },
   {
    "duration": 4,
    "start_time": "2023-08-01T19:28:05.203Z"
   },
   {
    "duration": 5,
    "start_time": "2023-08-01T19:29:23.959Z"
   },
   {
    "duration": 10,
    "start_time": "2023-08-01T19:30:27.943Z"
   },
   {
    "duration": 10,
    "start_time": "2023-08-01T19:30:46.015Z"
   },
   {
    "duration": 32,
    "start_time": "2023-08-01T19:31:28.863Z"
   },
   {
    "duration": 39,
    "start_time": "2023-08-01T19:48:15.941Z"
   },
   {
    "duration": 30,
    "start_time": "2023-08-01T19:48:18.252Z"
   },
   {
    "duration": 35,
    "start_time": "2023-08-01T19:48:18.904Z"
   },
   {
    "duration": 85,
    "start_time": "2023-08-01T19:49:06.036Z"
   },
   {
    "duration": 99,
    "start_time": "2023-08-01T20:11:37.633Z"
   },
   {
    "duration": 244,
    "start_time": "2023-08-01T20:11:51.209Z"
   },
   {
    "duration": 90,
    "start_time": "2023-08-01T20:12:35.766Z"
   },
   {
    "duration": 316,
    "start_time": "2023-08-01T20:12:43.441Z"
   },
   {
    "duration": 307,
    "start_time": "2023-08-01T20:12:54.493Z"
   },
   {
    "duration": 4,
    "start_time": "2023-08-01T20:13:32.341Z"
   },
   {
    "duration": 10,
    "start_time": "2023-08-01T20:14:08.180Z"
   },
   {
    "duration": 11,
    "start_time": "2023-08-01T20:14:18.131Z"
   },
   {
    "duration": 10,
    "start_time": "2023-08-01T20:14:30.035Z"
   },
   {
    "duration": 4,
    "start_time": "2023-08-01T20:14:51.335Z"
   },
   {
    "duration": 4,
    "start_time": "2023-08-01T20:15:21.838Z"
   },
   {
    "duration": 5,
    "start_time": "2023-08-01T20:15:46.860Z"
   },
   {
    "duration": 4,
    "start_time": "2023-08-01T20:17:02.946Z"
   },
   {
    "duration": 293,
    "start_time": "2023-08-01T20:17:11.257Z"
   },
   {
    "duration": 80,
    "start_time": "2023-08-01T20:17:17.850Z"
   },
   {
    "duration": 4,
    "start_time": "2023-08-01T20:17:31.697Z"
   },
   {
    "duration": 108,
    "start_time": "2023-08-01T20:18:09.041Z"
   },
   {
    "duration": 171,
    "start_time": "2023-08-01T20:19:02.335Z"
   },
   {
    "duration": 4,
    "start_time": "2023-08-01T20:19:13.497Z"
   },
   {
    "duration": 5,
    "start_time": "2023-08-01T20:19:37.101Z"
   },
   {
    "duration": 10,
    "start_time": "2023-08-01T20:20:19.313Z"
   },
   {
    "duration": 4,
    "start_time": "2023-08-01T20:20:27.305Z"
   },
   {
    "duration": 8,
    "start_time": "2023-08-01T20:20:36.153Z"
   },
   {
    "duration": 4,
    "start_time": "2023-08-01T20:21:02.982Z"
   },
   {
    "duration": 14,
    "start_time": "2023-08-01T20:25:46.079Z"
   },
   {
    "duration": 12,
    "start_time": "2023-08-01T20:26:20.930Z"
   },
   {
    "duration": 10,
    "start_time": "2023-08-01T20:26:43.497Z"
   },
   {
    "duration": 5,
    "start_time": "2023-08-01T20:27:55.531Z"
   },
   {
    "duration": 9,
    "start_time": "2023-08-01T20:28:52.278Z"
   },
   {
    "duration": 12,
    "start_time": "2023-08-01T20:29:33.577Z"
   },
   {
    "duration": 5,
    "start_time": "2023-08-01T20:29:59.330Z"
   },
   {
    "duration": 8,
    "start_time": "2023-08-01T20:30:06.217Z"
   },
   {
    "duration": 8,
    "start_time": "2023-08-01T20:31:48.965Z"
   },
   {
    "duration": 1083,
    "start_time": "2023-08-01T21:11:04.195Z"
   },
   {
    "duration": 149,
    "start_time": "2023-08-01T21:11:05.279Z"
   },
   {
    "duration": 10,
    "start_time": "2023-08-01T21:11:05.429Z"
   },
   {
    "duration": 26,
    "start_time": "2023-08-01T21:11:05.440Z"
   },
   {
    "duration": 7,
    "start_time": "2023-08-01T21:11:05.467Z"
   },
   {
    "duration": 26,
    "start_time": "2023-08-01T21:11:05.475Z"
   },
   {
    "duration": 60,
    "start_time": "2023-08-01T21:11:05.503Z"
   },
   {
    "duration": 117,
    "start_time": "2023-08-01T21:11:05.564Z"
   },
   {
    "duration": 25,
    "start_time": "2023-08-01T21:11:05.682Z"
   },
   {
    "duration": 7,
    "start_time": "2023-08-01T21:11:05.709Z"
   },
   {
    "duration": 71,
    "start_time": "2023-08-01T21:11:05.717Z"
   },
   {
    "duration": 23,
    "start_time": "2023-08-01T21:11:05.789Z"
   },
   {
    "duration": 9,
    "start_time": "2023-08-01T21:11:05.814Z"
   },
   {
    "duration": 31,
    "start_time": "2023-08-01T21:11:05.824Z"
   },
   {
    "duration": 19,
    "start_time": "2023-08-01T21:11:05.856Z"
   },
   {
    "duration": 30,
    "start_time": "2023-08-01T21:11:05.877Z"
   },
   {
    "duration": 27,
    "start_time": "2023-08-01T21:11:05.908Z"
   },
   {
    "duration": 561,
    "start_time": "2023-08-01T21:11:05.937Z"
   },
   {
    "duration": 34,
    "start_time": "2023-08-01T21:11:06.499Z"
   },
   {
    "duration": 457,
    "start_time": "2023-08-01T21:11:06.534Z"
   },
   {
    "duration": 10,
    "start_time": "2023-08-01T21:11:06.993Z"
   },
   {
    "duration": 20,
    "start_time": "2023-08-01T21:11:07.005Z"
   },
   {
    "duration": 29,
    "start_time": "2023-08-01T21:11:07.026Z"
   },
   {
    "duration": 43,
    "start_time": "2023-08-01T21:11:07.057Z"
   },
   {
    "duration": 45,
    "start_time": "2023-08-01T21:11:07.102Z"
   },
   {
    "duration": 10,
    "start_time": "2023-08-01T21:11:07.149Z"
   },
   {
    "duration": 16,
    "start_time": "2023-08-01T21:11:07.160Z"
   },
   {
    "duration": 22,
    "start_time": "2023-08-01T21:11:07.178Z"
   },
   {
    "duration": 32,
    "start_time": "2023-08-01T21:11:07.202Z"
   },
   {
    "duration": 36,
    "start_time": "2023-08-01T21:11:07.235Z"
   },
   {
    "duration": 57,
    "start_time": "2023-08-01T21:11:07.272Z"
   },
   {
    "duration": 94,
    "start_time": "2023-08-01T21:11:07.330Z"
   },
   {
    "duration": 127,
    "start_time": "2023-08-01T21:11:07.425Z"
   },
   {
    "duration": 0,
    "start_time": "2023-08-01T21:11:07.553Z"
   },
   {
    "duration": 0,
    "start_time": "2023-08-01T21:11:07.555Z"
   },
   {
    "duration": 0,
    "start_time": "2023-08-01T21:11:07.556Z"
   },
   {
    "duration": 0,
    "start_time": "2023-08-01T21:11:07.558Z"
   },
   {
    "duration": 32,
    "start_time": "2023-08-01T21:11:24.555Z"
   },
   {
    "duration": 69,
    "start_time": "2023-08-01T21:11:28.463Z"
   },
   {
    "duration": 5,
    "start_time": "2023-08-01T21:11:31.819Z"
   },
   {
    "duration": 8,
    "start_time": "2023-08-01T21:11:32.927Z"
   },
   {
    "duration": 53,
    "start_time": "2023-08-01T21:11:54.759Z"
   },
   {
    "duration": 5,
    "start_time": "2023-08-01T21:12:33.143Z"
   },
   {
    "duration": 114,
    "start_time": "2023-08-01T21:12:33.763Z"
   },
   {
    "duration": 1106,
    "start_time": "2023-08-01T21:13:17.391Z"
   },
   {
    "duration": 140,
    "start_time": "2023-08-01T21:13:18.500Z"
   },
   {
    "duration": 11,
    "start_time": "2023-08-01T21:13:18.641Z"
   },
   {
    "duration": 28,
    "start_time": "2023-08-01T21:13:18.655Z"
   },
   {
    "duration": 7,
    "start_time": "2023-08-01T21:13:18.685Z"
   },
   {
    "duration": 17,
    "start_time": "2023-08-01T21:13:18.698Z"
   },
   {
    "duration": 59,
    "start_time": "2023-08-01T21:13:18.717Z"
   },
   {
    "duration": 126,
    "start_time": "2023-08-01T21:13:18.778Z"
   },
   {
    "duration": 20,
    "start_time": "2023-08-01T21:13:18.906Z"
   },
   {
    "duration": 6,
    "start_time": "2023-08-01T21:13:18.930Z"
   },
   {
    "duration": 82,
    "start_time": "2023-08-01T21:13:18.938Z"
   },
   {
    "duration": 18,
    "start_time": "2023-08-01T21:13:19.022Z"
   },
   {
    "duration": 10,
    "start_time": "2023-08-01T21:13:19.041Z"
   },
   {
    "duration": 31,
    "start_time": "2023-08-01T21:13:19.053Z"
   },
   {
    "duration": 15,
    "start_time": "2023-08-01T21:13:19.085Z"
   },
   {
    "duration": 19,
    "start_time": "2023-08-01T21:13:19.101Z"
   },
   {
    "duration": 22,
    "start_time": "2023-08-01T21:13:19.121Z"
   },
   {
    "duration": 535,
    "start_time": "2023-08-01T21:13:19.145Z"
   },
   {
    "duration": 40,
    "start_time": "2023-08-01T21:13:19.681Z"
   },
   {
    "duration": 437,
    "start_time": "2023-08-01T21:13:19.722Z"
   },
   {
    "duration": 5,
    "start_time": "2023-08-01T21:13:20.161Z"
   },
   {
    "duration": 34,
    "start_time": "2023-08-01T21:13:20.167Z"
   },
   {
    "duration": 28,
    "start_time": "2023-08-01T21:13:20.203Z"
   },
   {
    "duration": 20,
    "start_time": "2023-08-01T21:13:20.233Z"
   },
   {
    "duration": 66,
    "start_time": "2023-08-01T21:13:20.254Z"
   },
   {
    "duration": 9,
    "start_time": "2023-08-01T21:13:20.322Z"
   },
   {
    "duration": 14,
    "start_time": "2023-08-01T21:13:20.332Z"
   },
   {
    "duration": 11,
    "start_time": "2023-08-01T21:13:20.349Z"
   },
   {
    "duration": 12,
    "start_time": "2023-08-01T21:13:20.361Z"
   },
   {
    "duration": 8,
    "start_time": "2023-08-01T21:13:20.374Z"
   },
   {
    "duration": 40,
    "start_time": "2023-08-01T21:13:20.383Z"
   },
   {
    "duration": 97,
    "start_time": "2023-08-01T21:13:20.424Z"
   },
   {
    "duration": 31,
    "start_time": "2023-08-01T21:13:20.522Z"
   },
   {
    "duration": 75,
    "start_time": "2023-08-01T21:13:20.555Z"
   },
   {
    "duration": 4,
    "start_time": "2023-08-01T21:13:20.632Z"
   },
   {
    "duration": 104,
    "start_time": "2023-08-01T21:13:20.637Z"
   },
   {
    "duration": 0,
    "start_time": "2023-08-01T21:13:20.742Z"
   },
   {
    "duration": 8,
    "start_time": "2023-08-01T21:16:05.327Z"
   },
   {
    "duration": 3,
    "start_time": "2023-08-01T21:16:06.283Z"
   },
   {
    "duration": 130,
    "start_time": "2023-08-01T21:16:10.027Z"
   },
   {
    "duration": 6,
    "start_time": "2023-08-01T21:16:46.360Z"
   },
   {
    "duration": 59,
    "start_time": "2023-08-01T21:16:46.959Z"
   },
   {
    "duration": 5,
    "start_time": "2023-08-01T21:17:09.851Z"
   },
   {
    "duration": 135,
    "start_time": "2023-08-01T21:17:10.655Z"
   },
   {
    "duration": 6,
    "start_time": "2023-08-01T21:18:22.483Z"
   },
   {
    "duration": 150,
    "start_time": "2023-08-01T21:18:25.336Z"
   },
   {
    "duration": 6,
    "start_time": "2023-08-01T21:19:57.927Z"
   },
   {
    "duration": 125,
    "start_time": "2023-08-01T21:19:58.504Z"
   },
   {
    "duration": 75,
    "start_time": "2023-08-01T21:33:07.797Z"
   },
   {
    "duration": 6,
    "start_time": "2023-08-01T21:33:11.952Z"
   },
   {
    "duration": 133,
    "start_time": "2023-08-01T21:33:12.940Z"
   },
   {
    "duration": 1685,
    "start_time": "2023-08-01T21:33:26.104Z"
   },
   {
    "duration": 10,
    "start_time": "2023-08-01T21:36:49.112Z"
   },
   {
    "duration": 129,
    "start_time": "2023-08-01T21:36:58.637Z"
   },
   {
    "duration": 126,
    "start_time": "2023-08-01T21:37:20.252Z"
   },
   {
    "duration": 5,
    "start_time": "2023-08-01T21:43:31.000Z"
   },
   {
    "duration": 49,
    "start_time": "2023-08-01T21:45:18.444Z"
   },
   {
    "duration": 29,
    "start_time": "2023-08-01T21:48:20.391Z"
   },
   {
    "duration": 25,
    "start_time": "2023-08-01T21:48:22.024Z"
   },
   {
    "duration": 40,
    "start_time": "2023-08-01T21:48:22.691Z"
   },
   {
    "duration": 30,
    "start_time": "2023-08-01T21:49:42.948Z"
   },
   {
    "duration": 1180,
    "start_time": "2023-08-01T21:49:50.360Z"
   },
   {
    "duration": 154,
    "start_time": "2023-08-01T21:49:51.542Z"
   },
   {
    "duration": 11,
    "start_time": "2023-08-01T21:49:51.697Z"
   },
   {
    "duration": 36,
    "start_time": "2023-08-01T21:49:51.709Z"
   },
   {
    "duration": 7,
    "start_time": "2023-08-01T21:49:51.747Z"
   },
   {
    "duration": 25,
    "start_time": "2023-08-01T21:49:51.756Z"
   },
   {
    "duration": 67,
    "start_time": "2023-08-01T21:49:51.783Z"
   },
   {
    "duration": 128,
    "start_time": "2023-08-01T21:49:51.851Z"
   },
   {
    "duration": 28,
    "start_time": "2023-08-01T21:49:51.981Z"
   },
   {
    "duration": 7,
    "start_time": "2023-08-01T21:49:52.012Z"
   },
   {
    "duration": 80,
    "start_time": "2023-08-01T21:49:52.020Z"
   },
   {
    "duration": 18,
    "start_time": "2023-08-01T21:49:52.102Z"
   },
   {
    "duration": 10,
    "start_time": "2023-08-01T21:49:52.122Z"
   },
   {
    "duration": 29,
    "start_time": "2023-08-01T21:49:52.133Z"
   },
   {
    "duration": 27,
    "start_time": "2023-08-01T21:49:52.163Z"
   },
   {
    "duration": 34,
    "start_time": "2023-08-01T21:49:52.192Z"
   },
   {
    "duration": 27,
    "start_time": "2023-08-01T21:49:52.228Z"
   },
   {
    "duration": 573,
    "start_time": "2023-08-01T21:49:52.257Z"
   },
   {
    "duration": 37,
    "start_time": "2023-08-01T21:49:52.831Z"
   },
   {
    "duration": 494,
    "start_time": "2023-08-01T21:49:52.870Z"
   },
   {
    "duration": 6,
    "start_time": "2023-08-01T21:49:53.366Z"
   },
   {
    "duration": 90,
    "start_time": "2023-08-01T21:49:53.374Z"
   },
   {
    "duration": 40,
    "start_time": "2023-08-01T21:49:53.466Z"
   },
   {
    "duration": 21,
    "start_time": "2023-08-01T21:49:53.507Z"
   },
   {
    "duration": 80,
    "start_time": "2023-08-01T21:49:53.530Z"
   },
   {
    "duration": 12,
    "start_time": "2023-08-01T21:49:53.612Z"
   },
   {
    "duration": 26,
    "start_time": "2023-08-01T21:49:53.626Z"
   },
   {
    "duration": 33,
    "start_time": "2023-08-01T21:49:53.656Z"
   },
   {
    "duration": 20,
    "start_time": "2023-08-01T21:49:53.691Z"
   },
   {
    "duration": 10,
    "start_time": "2023-08-01T21:49:53.713Z"
   },
   {
    "duration": 43,
    "start_time": "2023-08-01T21:49:53.724Z"
   },
   {
    "duration": 105,
    "start_time": "2023-08-01T21:49:53.769Z"
   },
   {
    "duration": 39,
    "start_time": "2023-08-01T21:49:53.876Z"
   },
   {
    "duration": 99,
    "start_time": "2023-08-01T21:49:53.917Z"
   },
   {
    "duration": 6,
    "start_time": "2023-08-01T21:49:54.018Z"
   },
   {
    "duration": 175,
    "start_time": "2023-08-01T21:49:54.026Z"
   },
   {
    "duration": 155,
    "start_time": "2023-08-01T21:49:54.202Z"
   },
   {
    "duration": 155,
    "start_time": "2023-08-01T21:49:54.359Z"
   },
   {
    "duration": 153,
    "start_time": "2023-08-01T21:49:54.516Z"
   },
   {
    "duration": 0,
    "start_time": "2023-08-01T21:49:54.671Z"
   },
   {
    "duration": 0,
    "start_time": "2023-08-01T21:49:54.672Z"
   },
   {
    "duration": 1311,
    "start_time": "2023-08-01T21:51:38.172Z"
   },
   {
    "duration": 1246,
    "start_time": "2023-08-01T21:51:55.852Z"
   },
   {
    "duration": 6,
    "start_time": "2023-08-01T21:52:11.237Z"
   },
   {
    "duration": 1415,
    "start_time": "2023-08-01T21:53:03.889Z"
   },
   {
    "duration": 47,
    "start_time": "2023-08-02T06:56:09.811Z"
   },
   {
    "duration": 1283,
    "start_time": "2023-08-02T06:56:16.551Z"
   },
   {
    "duration": 491,
    "start_time": "2023-08-02T06:56:17.836Z"
   },
   {
    "duration": 12,
    "start_time": "2023-08-02T06:56:18.329Z"
   },
   {
    "duration": 20,
    "start_time": "2023-08-02T06:56:18.344Z"
   },
   {
    "duration": 7,
    "start_time": "2023-08-02T06:56:18.365Z"
   },
   {
    "duration": 29,
    "start_time": "2023-08-02T06:56:18.374Z"
   },
   {
    "duration": 65,
    "start_time": "2023-08-02T06:56:18.404Z"
   },
   {
    "duration": 141,
    "start_time": "2023-08-02T06:56:18.470Z"
   },
   {
    "duration": 22,
    "start_time": "2023-08-02T06:56:18.613Z"
   },
   {
    "duration": 7,
    "start_time": "2023-08-02T06:56:18.638Z"
   },
   {
    "duration": 83,
    "start_time": "2023-08-02T06:56:18.646Z"
   },
   {
    "duration": 20,
    "start_time": "2023-08-02T06:56:18.730Z"
   },
   {
    "duration": 14,
    "start_time": "2023-08-02T06:56:18.751Z"
   },
   {
    "duration": 37,
    "start_time": "2023-08-02T06:56:18.766Z"
   },
   {
    "duration": 7,
    "start_time": "2023-08-02T06:56:18.805Z"
   },
   {
    "duration": 38,
    "start_time": "2023-08-02T06:56:18.814Z"
   },
   {
    "duration": 26,
    "start_time": "2023-08-02T06:56:18.854Z"
   },
   {
    "duration": 585,
    "start_time": "2023-08-02T06:56:18.882Z"
   },
   {
    "duration": 46,
    "start_time": "2023-08-02T06:56:19.469Z"
   },
   {
    "duration": 467,
    "start_time": "2023-08-02T06:56:19.516Z"
   },
   {
    "duration": 18,
    "start_time": "2023-08-02T06:56:19.984Z"
   },
   {
    "duration": 23,
    "start_time": "2023-08-02T06:56:20.004Z"
   },
   {
    "duration": 31,
    "start_time": "2023-08-02T06:56:20.029Z"
   },
   {
    "duration": 47,
    "start_time": "2023-08-02T06:56:20.062Z"
   },
   {
    "duration": 50,
    "start_time": "2023-08-02T06:56:20.111Z"
   },
   {
    "duration": 11,
    "start_time": "2023-08-02T06:56:20.163Z"
   },
   {
    "duration": 29,
    "start_time": "2023-08-02T06:56:20.176Z"
   },
   {
    "duration": 15,
    "start_time": "2023-08-02T06:56:20.208Z"
   },
   {
    "duration": 19,
    "start_time": "2023-08-02T06:56:20.225Z"
   },
   {
    "duration": 23,
    "start_time": "2023-08-02T06:56:20.245Z"
   },
   {
    "duration": 41,
    "start_time": "2023-08-02T06:56:20.270Z"
   },
   {
    "duration": 116,
    "start_time": "2023-08-02T06:56:20.312Z"
   },
   {
    "duration": 37,
    "start_time": "2023-08-02T06:56:20.429Z"
   },
   {
    "duration": 77,
    "start_time": "2023-08-02T06:56:20.468Z"
   },
   {
    "duration": 6,
    "start_time": "2023-08-02T06:56:20.546Z"
   },
   {
    "duration": 161,
    "start_time": "2023-08-02T06:56:20.554Z"
   },
   {
    "duration": 151,
    "start_time": "2023-08-02T06:56:20.717Z"
   },
   {
    "duration": 161,
    "start_time": "2023-08-02T06:56:20.870Z"
   },
   {
    "duration": 103,
    "start_time": "2023-08-02T06:56:21.033Z"
   },
   {
    "duration": 0,
    "start_time": "2023-08-02T06:56:21.137Z"
   },
   {
    "duration": 0,
    "start_time": "2023-08-02T06:56:21.139Z"
   },
   {
    "duration": 177,
    "start_time": "2023-08-02T06:56:32.287Z"
   },
   {
    "duration": 1152,
    "start_time": "2023-08-02T09:57:12.575Z"
   },
   {
    "duration": 150,
    "start_time": "2023-08-02T09:57:13.731Z"
   },
   {
    "duration": 10,
    "start_time": "2023-08-02T09:57:13.883Z"
   },
   {
    "duration": 38,
    "start_time": "2023-08-02T09:57:13.895Z"
   },
   {
    "duration": 24,
    "start_time": "2023-08-02T09:57:13.934Z"
   },
   {
    "duration": 18,
    "start_time": "2023-08-02T09:57:13.960Z"
   },
   {
    "duration": 71,
    "start_time": "2023-08-02T09:57:13.979Z"
   },
   {
    "duration": 125,
    "start_time": "2023-08-02T09:57:14.051Z"
   },
   {
    "duration": 31,
    "start_time": "2023-08-02T09:57:14.179Z"
   },
   {
    "duration": 7,
    "start_time": "2023-08-02T09:57:14.212Z"
   },
   {
    "duration": 91,
    "start_time": "2023-08-02T09:57:14.221Z"
   },
   {
    "duration": 25,
    "start_time": "2023-08-02T09:57:14.314Z"
   },
   {
    "duration": 52,
    "start_time": "2023-08-02T09:57:14.341Z"
   },
   {
    "duration": 49,
    "start_time": "2023-08-02T09:57:14.395Z"
   },
   {
    "duration": 33,
    "start_time": "2023-08-02T09:57:14.446Z"
   },
   {
    "duration": 24,
    "start_time": "2023-08-02T09:57:14.480Z"
   },
   {
    "duration": 26,
    "start_time": "2023-08-02T09:57:14.506Z"
   },
   {
    "duration": 567,
    "start_time": "2023-08-02T09:57:14.533Z"
   },
   {
    "duration": 36,
    "start_time": "2023-08-02T09:57:15.101Z"
   },
   {
    "duration": 548,
    "start_time": "2023-08-02T09:57:15.139Z"
   },
   {
    "duration": 15,
    "start_time": "2023-08-02T09:57:15.689Z"
   },
   {
    "duration": 54,
    "start_time": "2023-08-02T09:57:15.705Z"
   },
   {
    "duration": 31,
    "start_time": "2023-08-02T09:57:15.760Z"
   },
   {
    "duration": 20,
    "start_time": "2023-08-02T09:57:15.800Z"
   },
   {
    "duration": 67,
    "start_time": "2023-08-02T09:57:15.821Z"
   },
   {
    "duration": 19,
    "start_time": "2023-08-02T09:57:15.890Z"
   },
   {
    "duration": 6,
    "start_time": "2023-08-02T09:57:15.914Z"
   },
   {
    "duration": 23,
    "start_time": "2023-08-02T09:57:15.922Z"
   },
   {
    "duration": 36,
    "start_time": "2023-08-02T09:57:15.946Z"
   },
   {
    "duration": 26,
    "start_time": "2023-08-02T09:57:15.984Z"
   },
   {
    "duration": 56,
    "start_time": "2023-08-02T09:57:16.012Z"
   },
   {
    "duration": 139,
    "start_time": "2023-08-02T09:57:16.071Z"
   },
   {
    "duration": 48,
    "start_time": "2023-08-02T09:57:16.212Z"
   },
   {
    "duration": 100,
    "start_time": "2023-08-02T09:57:16.262Z"
   },
   {
    "duration": 8,
    "start_time": "2023-08-02T09:57:16.365Z"
   },
   {
    "duration": 177,
    "start_time": "2023-08-02T09:57:16.375Z"
   },
   {
    "duration": 151,
    "start_time": "2023-08-02T09:57:16.553Z"
   },
   {
    "duration": 155,
    "start_time": "2023-08-02T09:57:16.706Z"
   },
   {
    "duration": 177,
    "start_time": "2023-08-02T09:57:16.863Z"
   },
   {
    "duration": 3,
    "start_time": "2023-08-02T09:57:17.042Z"
   },
   {
    "duration": 26,
    "start_time": "2023-08-02T09:57:17.046Z"
   },
   {
    "duration": 35,
    "start_time": "2023-08-02T10:00:13.689Z"
   },
   {
    "duration": 144,
    "start_time": "2023-08-02T10:01:05.324Z"
   },
   {
    "duration": 27,
    "start_time": "2023-08-02T10:01:29.554Z"
   },
   {
    "duration": 11,
    "start_time": "2023-08-02T10:01:33.778Z"
   },
   {
    "duration": 11,
    "start_time": "2023-08-02T10:01:40.058Z"
   },
   {
    "duration": 11,
    "start_time": "2023-08-02T10:02:04.474Z"
   },
   {
    "duration": 217,
    "start_time": "2023-08-02T10:03:34.838Z"
   },
   {
    "duration": 137,
    "start_time": "2023-08-02T10:04:29.555Z"
   },
   {
    "duration": 142,
    "start_time": "2023-08-02T10:04:41.203Z"
   },
   {
    "duration": 30,
    "start_time": "2023-08-02T10:05:42.829Z"
   },
   {
    "duration": 7,
    "start_time": "2023-08-02T10:45:49.490Z"
   },
   {
    "duration": 61,
    "start_time": "2023-08-02T10:46:04.200Z"
   },
   {
    "duration": 59,
    "start_time": "2023-08-02T10:46:10.153Z"
   },
   {
    "duration": 165,
    "start_time": "2023-08-02T10:46:19.177Z"
   },
   {
    "duration": 56,
    "start_time": "2023-08-02T10:46:40.920Z"
   },
   {
    "duration": 57,
    "start_time": "2023-08-02T10:46:45.049Z"
   },
   {
    "duration": 1275,
    "start_time": "2023-08-02T10:49:15.872Z"
   },
   {
    "duration": 157,
    "start_time": "2023-08-02T10:49:17.149Z"
   },
   {
    "duration": 13,
    "start_time": "2023-08-02T10:49:17.308Z"
   },
   {
    "duration": 20,
    "start_time": "2023-08-02T10:49:17.324Z"
   },
   {
    "duration": 10,
    "start_time": "2023-08-02T10:49:17.346Z"
   },
   {
    "duration": 51,
    "start_time": "2023-08-02T10:49:17.358Z"
   },
   {
    "duration": 90,
    "start_time": "2023-08-02T10:49:17.411Z"
   },
   {
    "duration": 147,
    "start_time": "2023-08-02T10:49:17.502Z"
   },
   {
    "duration": 23,
    "start_time": "2023-08-02T10:49:17.650Z"
   },
   {
    "duration": 8,
    "start_time": "2023-08-02T10:49:17.676Z"
   },
   {
    "duration": 66,
    "start_time": "2023-08-02T10:49:17.700Z"
   },
   {
    "duration": 44,
    "start_time": "2023-08-02T10:49:17.768Z"
   },
   {
    "duration": 15,
    "start_time": "2023-08-02T10:49:17.814Z"
   },
   {
    "duration": 23,
    "start_time": "2023-08-02T10:49:17.830Z"
   },
   {
    "duration": 19,
    "start_time": "2023-08-02T10:49:17.855Z"
   },
   {
    "duration": 37,
    "start_time": "2023-08-02T10:49:17.876Z"
   },
   {
    "duration": 32,
    "start_time": "2023-08-02T10:49:17.915Z"
   },
   {
    "duration": 610,
    "start_time": "2023-08-02T10:49:17.949Z"
   },
   {
    "duration": 48,
    "start_time": "2023-08-02T10:49:18.561Z"
   },
   {
    "duration": 521,
    "start_time": "2023-08-02T10:49:18.611Z"
   },
   {
    "duration": 8,
    "start_time": "2023-08-02T10:49:19.134Z"
   },
   {
    "duration": 26,
    "start_time": "2023-08-02T10:49:19.143Z"
   },
   {
    "duration": 61,
    "start_time": "2023-08-02T10:49:19.170Z"
   },
   {
    "duration": 23,
    "start_time": "2023-08-02T10:49:19.232Z"
   },
   {
    "duration": 82,
    "start_time": "2023-08-02T10:49:19.256Z"
   },
   {
    "duration": 11,
    "start_time": "2023-08-02T10:49:19.340Z"
   },
   {
    "duration": 11,
    "start_time": "2023-08-02T10:49:19.352Z"
   },
   {
    "duration": 21,
    "start_time": "2023-08-02T10:49:19.366Z"
   },
   {
    "duration": 7,
    "start_time": "2023-08-02T10:49:19.400Z"
   },
   {
    "duration": 9,
    "start_time": "2023-08-02T10:49:19.409Z"
   },
   {
    "duration": 38,
    "start_time": "2023-08-02T10:49:19.419Z"
   },
   {
    "duration": 153,
    "start_time": "2023-08-02T10:49:19.459Z"
   },
   {
    "duration": 50,
    "start_time": "2023-08-02T10:49:19.614Z"
   },
   {
    "duration": 100,
    "start_time": "2023-08-02T10:49:19.666Z"
   },
   {
    "duration": 11,
    "start_time": "2023-08-02T10:49:19.768Z"
   },
   {
    "duration": 196,
    "start_time": "2023-08-02T10:49:19.781Z"
   },
   {
    "duration": 177,
    "start_time": "2023-08-02T10:49:19.979Z"
   },
   {
    "duration": 157,
    "start_time": "2023-08-02T10:49:20.158Z"
   },
   {
    "duration": 3,
    "start_time": "2023-08-02T10:49:20.317Z"
   },
   {
    "duration": 144,
    "start_time": "2023-08-02T10:49:29.899Z"
   },
   {
    "duration": 133,
    "start_time": "2023-08-02T10:49:33.298Z"
   },
   {
    "duration": 130,
    "start_time": "2023-08-02T10:49:38.595Z"
   },
   {
    "duration": 131,
    "start_time": "2023-08-02T10:50:20.235Z"
   },
   {
    "duration": 120,
    "start_time": "2023-08-02T10:50:24.203Z"
   },
   {
    "duration": 122,
    "start_time": "2023-08-02T10:50:28.459Z"
   },
   {
    "duration": 137,
    "start_time": "2023-08-02T10:50:34.755Z"
   },
   {
    "duration": 129,
    "start_time": "2023-08-02T10:50:40.307Z"
   },
   {
    "duration": 130,
    "start_time": "2023-08-02T10:50:44.554Z"
   },
   {
    "duration": 1083,
    "start_time": "2023-08-03T11:46:26.079Z"
   },
   {
    "duration": 888,
    "start_time": "2023-08-03T11:46:27.164Z"
   },
   {
    "duration": 9,
    "start_time": "2023-08-03T11:46:28.053Z"
   },
   {
    "duration": 22,
    "start_time": "2023-08-03T11:46:28.063Z"
   },
   {
    "duration": 7,
    "start_time": "2023-08-03T11:46:28.088Z"
   },
   {
    "duration": 27,
    "start_time": "2023-08-03T11:46:28.097Z"
   },
   {
    "duration": 71,
    "start_time": "2023-08-03T11:46:28.126Z"
   },
   {
    "duration": 121,
    "start_time": "2023-08-03T11:46:28.199Z"
   },
   {
    "duration": 19,
    "start_time": "2023-08-03T11:46:28.322Z"
   },
   {
    "duration": 6,
    "start_time": "2023-08-03T11:46:28.343Z"
   },
   {
    "duration": 71,
    "start_time": "2023-08-03T11:46:28.350Z"
   },
   {
    "duration": 18,
    "start_time": "2023-08-03T11:46:28.423Z"
   },
   {
    "duration": 10,
    "start_time": "2023-08-03T11:46:28.442Z"
   },
   {
    "duration": 22,
    "start_time": "2023-08-03T11:46:28.455Z"
   },
   {
    "duration": 10,
    "start_time": "2023-08-03T11:46:28.478Z"
   },
   {
    "duration": 40,
    "start_time": "2023-08-03T11:46:28.489Z"
   },
   {
    "duration": 24,
    "start_time": "2023-08-03T11:46:28.530Z"
   },
   {
    "duration": 528,
    "start_time": "2023-08-03T11:46:28.556Z"
   },
   {
    "duration": 41,
    "start_time": "2023-08-03T11:46:29.086Z"
   },
   {
    "duration": 471,
    "start_time": "2023-08-03T11:46:29.129Z"
   },
   {
    "duration": 18,
    "start_time": "2023-08-03T11:46:29.602Z"
   },
   {
    "duration": 20,
    "start_time": "2023-08-03T11:46:29.621Z"
   },
   {
    "duration": 28,
    "start_time": "2023-08-03T11:46:29.642Z"
   },
   {
    "duration": 18,
    "start_time": "2023-08-03T11:46:29.672Z"
   },
   {
    "duration": 71,
    "start_time": "2023-08-03T11:46:29.692Z"
   },
   {
    "duration": 9,
    "start_time": "2023-08-03T11:46:29.764Z"
   },
   {
    "duration": 186,
    "start_time": "2023-08-03T11:46:29.774Z"
   },
   {
    "duration": 13,
    "start_time": "2023-08-03T11:46:29.961Z"
   },
   {
    "duration": 13,
    "start_time": "2023-08-03T11:46:29.975Z"
   },
   {
    "duration": 10,
    "start_time": "2023-08-03T11:46:29.989Z"
   },
   {
    "duration": 147,
    "start_time": "2023-08-03T11:46:30.000Z"
   },
   {
    "duration": 28,
    "start_time": "2023-08-03T11:46:30.148Z"
   },
   {
    "duration": 39,
    "start_time": "2023-08-03T11:46:30.178Z"
   },
   {
    "duration": 78,
    "start_time": "2023-08-03T11:46:30.220Z"
   },
   {
    "duration": 6,
    "start_time": "2023-08-03T11:46:30.299Z"
   },
   {
    "duration": 179,
    "start_time": "2023-08-03T11:46:30.306Z"
   },
   {
    "duration": 162,
    "start_time": "2023-08-03T11:46:30.487Z"
   },
   {
    "duration": 139,
    "start_time": "2023-08-03T11:46:30.651Z"
   },
   {
    "duration": 164,
    "start_time": "2023-08-03T11:46:30.791Z"
   },
   {
    "duration": 1272,
    "start_time": "2023-08-03T13:58:24.008Z"
   },
   {
    "duration": 862,
    "start_time": "2023-08-03T13:58:26.270Z"
   },
   {
    "duration": 97,
    "start_time": "2023-08-03T13:58:30.036Z"
   },
   {
    "duration": 3,
    "start_time": "2023-08-03T13:59:24.061Z"
   },
   {
    "duration": 292,
    "start_time": "2023-08-03T13:59:25.194Z"
   },
   {
    "duration": 10,
    "start_time": "2023-08-03T13:59:26.393Z"
   },
   {
    "duration": 3,
    "start_time": "2023-08-03T13:59:49.268Z"
   },
   {
    "duration": 104,
    "start_time": "2023-08-03T13:59:50.195Z"
   },
   {
    "duration": 58,
    "start_time": "2023-08-03T13:59:56.108Z"
   },
   {
    "duration": 158,
    "start_time": "2023-08-03T14:00:09.805Z"
   },
   {
    "duration": 8,
    "start_time": "2023-08-03T14:00:13.221Z"
   },
   {
    "duration": 1239,
    "start_time": "2023-08-03T14:00:28.632Z"
   },
   {
    "duration": 166,
    "start_time": "2023-08-03T14:00:29.873Z"
   },
   {
    "duration": 20,
    "start_time": "2023-08-03T14:00:30.041Z"
   },
   {
    "duration": 25,
    "start_time": "2023-08-03T14:00:30.064Z"
   },
   {
    "duration": 34,
    "start_time": "2023-08-03T14:00:30.091Z"
   },
   {
    "duration": 45,
    "start_time": "2023-08-03T14:00:30.127Z"
   },
   {
    "duration": 109,
    "start_time": "2023-08-03T14:00:30.174Z"
   },
   {
    "duration": 140,
    "start_time": "2023-08-03T14:00:30.285Z"
   },
   {
    "duration": 32,
    "start_time": "2023-08-03T14:00:30.427Z"
   },
   {
    "duration": 7,
    "start_time": "2023-08-03T14:00:30.462Z"
   },
   {
    "duration": 106,
    "start_time": "2023-08-03T14:00:30.470Z"
   },
   {
    "duration": 45,
    "start_time": "2023-08-03T14:00:30.577Z"
   },
   {
    "duration": 37,
    "start_time": "2023-08-03T14:00:30.624Z"
   },
   {
    "duration": 76,
    "start_time": "2023-08-03T14:00:30.663Z"
   },
   {
    "duration": 39,
    "start_time": "2023-08-03T14:00:30.741Z"
   },
   {
    "duration": 38,
    "start_time": "2023-08-03T14:00:30.782Z"
   },
   {
    "duration": 28,
    "start_time": "2023-08-03T14:00:30.821Z"
   },
   {
    "duration": 615,
    "start_time": "2023-08-03T14:00:30.851Z"
   },
   {
    "duration": 36,
    "start_time": "2023-08-03T14:00:31.468Z"
   },
   {
    "duration": 601,
    "start_time": "2023-08-03T14:00:31.505Z"
   },
   {
    "duration": 8,
    "start_time": "2023-08-03T14:00:32.108Z"
   },
   {
    "duration": 53,
    "start_time": "2023-08-03T14:00:32.117Z"
   },
   {
    "duration": 41,
    "start_time": "2023-08-03T14:00:32.172Z"
   },
   {
    "duration": 22,
    "start_time": "2023-08-03T14:00:32.215Z"
   },
   {
    "duration": 77,
    "start_time": "2023-08-03T14:00:32.239Z"
   },
   {
    "duration": 11,
    "start_time": "2023-08-03T14:00:32.318Z"
   },
   {
    "duration": 31,
    "start_time": "2023-08-03T14:00:32.330Z"
   },
   {
    "duration": 25,
    "start_time": "2023-08-03T14:00:32.365Z"
   },
   {
    "duration": 38,
    "start_time": "2023-08-03T14:00:32.392Z"
   },
   {
    "duration": 39,
    "start_time": "2023-08-03T14:00:32.432Z"
   },
   {
    "duration": 50,
    "start_time": "2023-08-03T14:00:32.473Z"
   },
   {
    "duration": 129,
    "start_time": "2023-08-03T14:00:32.524Z"
   },
   {
    "duration": 262,
    "start_time": "2023-08-03T14:00:32.654Z"
   },
   {
    "duration": 54,
    "start_time": "2023-08-03T14:00:32.918Z"
   },
   {
    "duration": 86,
    "start_time": "2023-08-03T14:00:32.974Z"
   },
   {
    "duration": 7,
    "start_time": "2023-08-03T14:00:33.062Z"
   },
   {
    "duration": 188,
    "start_time": "2023-08-03T14:00:33.071Z"
   },
   {
    "duration": 158,
    "start_time": "2023-08-03T14:00:33.261Z"
   },
   {
    "duration": 161,
    "start_time": "2023-08-03T14:00:33.421Z"
   },
   {
    "duration": 180,
    "start_time": "2023-08-03T14:00:33.583Z"
   },
   {
    "duration": 5,
    "start_time": "2023-08-03T15:12:07.899Z"
   },
   {
    "duration": 1193,
    "start_time": "2023-08-03T15:29:17.754Z"
   },
   {
    "duration": 204,
    "start_time": "2023-08-03T15:29:18.949Z"
   },
   {
    "duration": 15,
    "start_time": "2023-08-03T15:29:19.160Z"
   },
   {
    "duration": 22,
    "start_time": "2023-08-03T15:29:19.178Z"
   },
   {
    "duration": 9,
    "start_time": "2023-08-03T15:29:19.202Z"
   },
   {
    "duration": 44,
    "start_time": "2023-08-03T15:29:19.214Z"
   },
   {
    "duration": 72,
    "start_time": "2023-08-03T15:29:19.262Z"
   },
   {
    "duration": 160,
    "start_time": "2023-08-03T15:29:19.336Z"
   },
   {
    "duration": 23,
    "start_time": "2023-08-03T15:29:19.498Z"
   },
   {
    "duration": 8,
    "start_time": "2023-08-03T15:29:19.524Z"
   },
   {
    "duration": 99,
    "start_time": "2023-08-03T15:29:19.533Z"
   },
   {
    "duration": 23,
    "start_time": "2023-08-03T15:29:19.634Z"
   },
   {
    "duration": 17,
    "start_time": "2023-08-03T15:29:19.658Z"
   },
   {
    "duration": 43,
    "start_time": "2023-08-03T15:29:19.677Z"
   },
   {
    "duration": 13,
    "start_time": "2023-08-03T15:29:19.722Z"
   },
   {
    "duration": 26,
    "start_time": "2023-08-03T15:29:19.737Z"
   },
   {
    "duration": 28,
    "start_time": "2023-08-03T15:29:19.766Z"
   },
   {
    "duration": 666,
    "start_time": "2023-08-03T15:29:19.795Z"
   },
   {
    "duration": 39,
    "start_time": "2023-08-03T15:29:20.463Z"
   },
   {
    "duration": 584,
    "start_time": "2023-08-03T15:29:20.504Z"
   },
   {
    "duration": 8,
    "start_time": "2023-08-03T15:29:21.090Z"
   },
   {
    "duration": 38,
    "start_time": "2023-08-03T15:29:21.099Z"
   },
   {
    "duration": 51,
    "start_time": "2023-08-03T15:29:21.139Z"
   },
   {
    "duration": 30,
    "start_time": "2023-08-03T15:29:21.192Z"
   },
   {
    "duration": 72,
    "start_time": "2023-08-03T15:29:21.224Z"
   },
   {
    "duration": 11,
    "start_time": "2023-08-03T15:29:21.298Z"
   },
   {
    "duration": 28,
    "start_time": "2023-08-03T15:29:21.310Z"
   },
   {
    "duration": 41,
    "start_time": "2023-08-03T15:29:21.341Z"
   },
   {
    "duration": 14,
    "start_time": "2023-08-03T15:29:21.384Z"
   },
   {
    "duration": 22,
    "start_time": "2023-08-03T15:29:21.400Z"
   },
   {
    "duration": 9,
    "start_time": "2023-08-03T15:29:21.424Z"
   },
   {
    "duration": 61,
    "start_time": "2023-08-03T15:29:21.434Z"
   },
   {
    "duration": 146,
    "start_time": "2023-08-03T15:29:21.497Z"
   },
   {
    "duration": 49,
    "start_time": "2023-08-03T15:29:21.645Z"
   },
   {
    "duration": 90,
    "start_time": "2023-08-03T15:29:21.696Z"
   },
   {
    "duration": 7,
    "start_time": "2023-08-03T15:29:21.788Z"
   },
   {
    "duration": 193,
    "start_time": "2023-08-03T15:29:21.797Z"
   },
   {
    "duration": 170,
    "start_time": "2023-08-03T15:29:21.992Z"
   },
   {
    "duration": 171,
    "start_time": "2023-08-03T15:29:22.165Z"
   },
   {
    "duration": 199,
    "start_time": "2023-08-03T15:29:22.337Z"
   },
   {
    "duration": 5,
    "start_time": "2023-08-03T15:29:22.537Z"
   },
   {
    "duration": 17,
    "start_time": "2023-08-04T15:18:21.903Z"
   },
   {
    "duration": 3,
    "start_time": "2023-08-04T15:18:31.970Z"
   },
   {
    "duration": 1258,
    "start_time": "2023-08-04T15:38:59.637Z"
   },
   {
    "duration": 478,
    "start_time": "2023-08-04T15:39:00.897Z"
   },
   {
    "duration": 9,
    "start_time": "2023-08-04T15:39:01.376Z"
   },
   {
    "duration": 44,
    "start_time": "2023-08-04T15:39:01.387Z"
   },
   {
    "duration": 19,
    "start_time": "2023-08-04T15:39:01.432Z"
   },
   {
    "duration": 43,
    "start_time": "2023-08-04T15:39:01.452Z"
   },
   {
    "duration": 97,
    "start_time": "2023-08-04T15:39:01.496Z"
   },
   {
    "duration": 127,
    "start_time": "2023-08-04T15:39:01.595Z"
   },
   {
    "duration": 21,
    "start_time": "2023-08-04T15:39:01.724Z"
   },
   {
    "duration": 75,
    "start_time": "2023-08-04T15:39:01.748Z"
   },
   {
    "duration": 113,
    "start_time": "2023-08-04T15:39:01.825Z"
   },
   {
    "duration": 53,
    "start_time": "2023-08-04T15:39:01.939Z"
   },
   {
    "duration": 84,
    "start_time": "2023-08-04T15:39:01.994Z"
   },
   {
    "duration": 99,
    "start_time": "2023-08-04T15:39:02.080Z"
   },
   {
    "duration": 73,
    "start_time": "2023-08-04T15:39:02.180Z"
   },
   {
    "duration": 64,
    "start_time": "2023-08-04T15:39:02.255Z"
   },
   {
    "duration": 52,
    "start_time": "2023-08-04T15:39:02.321Z"
   },
   {
    "duration": 614,
    "start_time": "2023-08-04T15:39:02.375Z"
   },
   {
    "duration": 43,
    "start_time": "2023-08-04T15:39:02.990Z"
   },
   {
    "duration": 518,
    "start_time": "2023-08-04T15:39:03.034Z"
   },
   {
    "duration": 6,
    "start_time": "2023-08-04T15:39:03.553Z"
   },
   {
    "duration": 23,
    "start_time": "2023-08-04T15:39:03.560Z"
   },
   {
    "duration": 33,
    "start_time": "2023-08-04T15:39:03.606Z"
   },
   {
    "duration": 18,
    "start_time": "2023-08-04T15:39:03.640Z"
   },
   {
    "duration": 58,
    "start_time": "2023-08-04T15:39:03.660Z"
   },
   {
    "duration": 11,
    "start_time": "2023-08-04T15:39:03.719Z"
   },
   {
    "duration": 15,
    "start_time": "2023-08-04T15:39:03.732Z"
   },
   {
    "duration": 9,
    "start_time": "2023-08-04T15:39:03.750Z"
   },
   {
    "duration": 14,
    "start_time": "2023-08-04T15:39:03.761Z"
   },
   {
    "duration": 12,
    "start_time": "2023-08-04T15:39:03.777Z"
   },
   {
    "duration": 13,
    "start_time": "2023-08-04T15:39:03.790Z"
   },
   {
    "duration": 34,
    "start_time": "2023-08-04T15:39:03.805Z"
   },
   {
    "duration": 113,
    "start_time": "2023-08-04T15:39:03.840Z"
   },
   {
    "duration": 30,
    "start_time": "2023-08-04T15:39:03.955Z"
   },
   {
    "duration": 83,
    "start_time": "2023-08-04T15:39:03.986Z"
   },
   {
    "duration": 5,
    "start_time": "2023-08-04T15:39:04.070Z"
   },
   {
    "duration": 157,
    "start_time": "2023-08-04T15:39:04.076Z"
   },
   {
    "duration": 128,
    "start_time": "2023-08-04T15:39:04.235Z"
   },
   {
    "duration": 137,
    "start_time": "2023-08-04T15:39:04.365Z"
   },
   {
    "duration": 153,
    "start_time": "2023-08-04T15:39:04.504Z"
   },
   {
    "duration": 124,
    "start_time": "2023-08-04T15:40:08.160Z"
   },
   {
    "duration": 132,
    "start_time": "2023-08-04T15:41:01.851Z"
   },
   {
    "duration": 6,
    "start_time": "2023-08-04T15:41:24.313Z"
   },
   {
    "duration": 130,
    "start_time": "2023-08-04T15:41:28.152Z"
   },
   {
    "duration": 134,
    "start_time": "2023-08-04T15:41:34.001Z"
   },
   {
    "duration": 6,
    "start_time": "2023-08-04T15:41:49.457Z"
   },
   {
    "duration": 144,
    "start_time": "2023-08-04T15:41:55.432Z"
   },
   {
    "duration": 147,
    "start_time": "2023-08-04T15:42:00.233Z"
   },
   {
    "duration": 143,
    "start_time": "2023-08-04T15:42:00.751Z"
   },
   {
    "duration": 150,
    "start_time": "2023-08-04T15:42:05.597Z"
   },
   {
    "duration": 119,
    "start_time": "2023-08-04T15:42:10.104Z"
   },
   {
    "duration": 131,
    "start_time": "2023-08-04T15:42:23.337Z"
   },
   {
    "duration": 119,
    "start_time": "2023-08-04T15:42:43.246Z"
   },
   {
    "duration": 143,
    "start_time": "2023-08-04T15:42:51.211Z"
   },
   {
    "duration": 132,
    "start_time": "2023-08-04T15:42:57.122Z"
   },
   {
    "duration": 132,
    "start_time": "2023-08-04T15:43:30.953Z"
   },
   {
    "duration": 153,
    "start_time": "2023-08-04T15:43:52.684Z"
   },
   {
    "duration": 1269,
    "start_time": "2023-08-05T13:12:16.022Z"
   },
   {
    "duration": 1057,
    "start_time": "2023-08-05T13:12:17.293Z"
   },
   {
    "duration": 11,
    "start_time": "2023-08-05T13:12:18.352Z"
   },
   {
    "duration": 20,
    "start_time": "2023-08-05T13:12:18.365Z"
   },
   {
    "duration": 8,
    "start_time": "2023-08-05T13:12:18.387Z"
   },
   {
    "duration": 13,
    "start_time": "2023-08-05T13:12:18.396Z"
   },
   {
    "duration": 92,
    "start_time": "2023-08-05T13:12:18.411Z"
   },
   {
    "duration": 131,
    "start_time": "2023-08-05T13:12:18.505Z"
   },
   {
    "duration": 31,
    "start_time": "2023-08-05T13:12:18.637Z"
   },
   {
    "duration": 9,
    "start_time": "2023-08-05T13:12:18.671Z"
   },
   {
    "duration": 83,
    "start_time": "2023-08-05T13:12:18.681Z"
   },
   {
    "duration": 18,
    "start_time": "2023-08-05T13:12:18.766Z"
   },
   {
    "duration": 12,
    "start_time": "2023-08-05T13:12:18.786Z"
   },
   {
    "duration": 20,
    "start_time": "2023-08-05T13:12:18.799Z"
   },
   {
    "duration": 6,
    "start_time": "2023-08-05T13:12:18.821Z"
   },
   {
    "duration": 51,
    "start_time": "2023-08-05T13:12:18.829Z"
   },
   {
    "duration": 27,
    "start_time": "2023-08-05T13:12:18.881Z"
   },
   {
    "duration": 645,
    "start_time": "2023-08-05T13:12:18.910Z"
   },
   {
    "duration": 46,
    "start_time": "2023-08-05T13:12:19.564Z"
   },
   {
    "duration": 575,
    "start_time": "2023-08-05T13:12:19.612Z"
   },
   {
    "duration": 6,
    "start_time": "2023-08-05T13:12:20.189Z"
   },
   {
    "duration": 21,
    "start_time": "2023-08-05T13:12:20.197Z"
   },
   {
    "duration": 59,
    "start_time": "2023-08-05T13:12:20.220Z"
   },
   {
    "duration": 25,
    "start_time": "2023-08-05T13:12:20.280Z"
   },
   {
    "duration": 89,
    "start_time": "2023-08-05T13:12:20.307Z"
   },
   {
    "duration": 13,
    "start_time": "2023-08-05T13:12:20.398Z"
   },
   {
    "duration": 3,
    "start_time": "2023-08-05T13:12:20.412Z"
   },
   {
    "duration": 12,
    "start_time": "2023-08-05T13:12:20.420Z"
   },
   {
    "duration": 32,
    "start_time": "2023-08-05T13:12:20.434Z"
   },
   {
    "duration": 13,
    "start_time": "2023-08-05T13:12:20.468Z"
   },
   {
    "duration": 8,
    "start_time": "2023-08-05T13:12:20.483Z"
   },
   {
    "duration": 43,
    "start_time": "2023-08-05T13:12:20.493Z"
   },
   {
    "duration": 154,
    "start_time": "2023-08-05T13:12:20.538Z"
   },
   {
    "duration": 37,
    "start_time": "2023-08-05T13:12:20.693Z"
   },
   {
    "duration": 91,
    "start_time": "2023-08-05T13:12:20.732Z"
   },
   {
    "duration": 6,
    "start_time": "2023-08-05T13:12:20.825Z"
   },
   {
    "duration": 181,
    "start_time": "2023-08-05T13:12:20.833Z"
   },
   {
    "duration": 177,
    "start_time": "2023-08-05T13:12:21.015Z"
   },
   {
    "duration": 166,
    "start_time": "2023-08-05T13:12:21.194Z"
   },
   {
    "duration": 197,
    "start_time": "2023-08-05T13:12:21.362Z"
   },
   {
    "duration": 170,
    "start_time": "2023-08-05T13:12:21.561Z"
   },
   {
    "duration": 179,
    "start_time": "2023-08-05T13:12:21.733Z"
   },
   {
    "duration": 170,
    "start_time": "2023-08-05T13:12:21.914Z"
   },
   {
    "duration": 197,
    "start_time": "2023-08-05T13:12:22.086Z"
   },
   {
    "duration": 4,
    "start_time": "2023-08-05T13:12:54.794Z"
   },
   {
    "duration": 4,
    "start_time": "2023-08-05T13:13:07.827Z"
   },
   {
    "duration": 4,
    "start_time": "2023-08-05T13:14:58.015Z"
   },
   {
    "duration": 4,
    "start_time": "2023-08-05T13:16:16.237Z"
   },
   {
    "duration": 6,
    "start_time": "2023-08-05T13:19:30.658Z"
   },
   {
    "duration": 1138,
    "start_time": "2023-08-05T13:20:50.684Z"
   },
   {
    "duration": 165,
    "start_time": "2023-08-05T13:20:51.824Z"
   },
   {
    "duration": 10,
    "start_time": "2023-08-05T13:20:51.991Z"
   },
   {
    "duration": 21,
    "start_time": "2023-08-05T13:20:52.003Z"
   },
   {
    "duration": 9,
    "start_time": "2023-08-05T13:20:52.025Z"
   },
   {
    "duration": 42,
    "start_time": "2023-08-05T13:20:52.036Z"
   },
   {
    "duration": 89,
    "start_time": "2023-08-05T13:20:52.080Z"
   },
   {
    "duration": 141,
    "start_time": "2023-08-05T13:20:52.172Z"
   },
   {
    "duration": 23,
    "start_time": "2023-08-05T13:20:52.315Z"
   },
   {
    "duration": 19,
    "start_time": "2023-08-05T13:20:52.341Z"
   },
   {
    "duration": 82,
    "start_time": "2023-08-05T13:20:52.362Z"
   },
   {
    "duration": 24,
    "start_time": "2023-08-05T13:20:52.460Z"
   },
   {
    "duration": 16,
    "start_time": "2023-08-05T13:20:52.485Z"
   },
   {
    "duration": 41,
    "start_time": "2023-08-05T13:20:52.502Z"
   },
   {
    "duration": 14,
    "start_time": "2023-08-05T13:20:52.545Z"
   },
   {
    "duration": 29,
    "start_time": "2023-08-05T13:20:52.561Z"
   },
   {
    "duration": 26,
    "start_time": "2023-08-05T13:20:52.591Z"
   },
   {
    "duration": 662,
    "start_time": "2023-08-05T13:20:52.618Z"
   },
   {
    "duration": 37,
    "start_time": "2023-08-05T13:20:53.282Z"
   },
   {
    "duration": 588,
    "start_time": "2023-08-05T13:20:53.321Z"
   },
   {
    "duration": 7,
    "start_time": "2023-08-05T13:20:53.911Z"
   },
   {
    "duration": 43,
    "start_time": "2023-08-05T13:20:53.920Z"
   },
   {
    "duration": 39,
    "start_time": "2023-08-05T13:20:53.966Z"
   },
   {
    "duration": 30,
    "start_time": "2023-08-05T13:20:54.007Z"
   },
   {
    "duration": 76,
    "start_time": "2023-08-05T13:20:54.065Z"
   },
   {
    "duration": 30,
    "start_time": "2023-08-05T13:20:54.144Z"
   },
   {
    "duration": 6,
    "start_time": "2023-08-05T13:20:54.176Z"
   },
   {
    "duration": 20,
    "start_time": "2023-08-05T13:20:54.189Z"
   },
   {
    "duration": 21,
    "start_time": "2023-08-05T13:20:54.211Z"
   },
   {
    "duration": 34,
    "start_time": "2023-08-05T13:20:54.234Z"
   },
   {
    "duration": 10,
    "start_time": "2023-08-05T13:20:54.271Z"
   },
   {
    "duration": 55,
    "start_time": "2023-08-05T13:20:54.284Z"
   },
   {
    "duration": 178,
    "start_time": "2023-08-05T13:20:54.341Z"
   },
   {
    "duration": 54,
    "start_time": "2023-08-05T13:20:54.521Z"
   },
   {
    "duration": 88,
    "start_time": "2023-08-05T13:20:54.577Z"
   },
   {
    "duration": 9,
    "start_time": "2023-08-05T13:20:54.668Z"
   },
   {
    "duration": 350,
    "start_time": "2023-08-05T13:20:54.679Z"
   },
   {
    "duration": 177,
    "start_time": "2023-08-05T13:20:55.032Z"
   },
   {
    "duration": 190,
    "start_time": "2023-08-05T13:20:55.211Z"
   },
   {
    "duration": 195,
    "start_time": "2023-08-05T13:20:55.403Z"
   },
   {
    "duration": 4,
    "start_time": "2023-08-05T13:20:55.600Z"
   },
   {
    "duration": 23,
    "start_time": "2023-08-05T13:20:55.606Z"
   },
   {
    "duration": 177,
    "start_time": "2023-08-05T13:20:55.631Z"
   },
   {
    "duration": 180,
    "start_time": "2023-08-05T13:20:55.810Z"
   },
   {
    "duration": 189,
    "start_time": "2023-08-05T13:20:55.992Z"
   },
   {
    "duration": 214,
    "start_time": "2023-08-05T13:20:56.183Z"
   },
   {
    "duration": 1614,
    "start_time": "2024-08-05T08:40:48.867Z"
   },
   {
    "duration": 822,
    "start_time": "2024-08-05T08:41:00.087Z"
   },
   {
    "duration": 190,
    "start_time": "2024-08-05T08:41:13.827Z"
   },
   {
    "duration": 1209,
    "start_time": "2024-08-05T15:16:14.807Z"
   },
   {
    "duration": 192,
    "start_time": "2024-08-05T15:16:16.018Z"
   },
   {
    "duration": 13,
    "start_time": "2024-08-05T15:16:16.212Z"
   },
   {
    "duration": 38,
    "start_time": "2024-08-05T15:16:16.227Z"
   },
   {
    "duration": 8,
    "start_time": "2024-08-05T15:16:16.267Z"
   },
   {
    "duration": 17,
    "start_time": "2024-08-05T15:16:16.276Z"
   },
   {
    "duration": 97,
    "start_time": "2024-08-05T15:16:16.295Z"
   },
   {
    "duration": 141,
    "start_time": "2024-08-05T15:16:16.394Z"
   },
   {
    "duration": 40,
    "start_time": "2024-08-05T15:16:16.536Z"
   },
   {
    "duration": 11,
    "start_time": "2024-08-05T15:16:16.579Z"
   },
   {
    "duration": 118,
    "start_time": "2024-08-05T15:16:16.592Z"
   },
   {
    "duration": 21,
    "start_time": "2024-08-05T15:16:16.712Z"
   },
   {
    "duration": 25,
    "start_time": "2024-08-05T15:16:16.746Z"
   },
   {
    "duration": 48,
    "start_time": "2024-08-05T15:16:16.773Z"
   },
   {
    "duration": 29,
    "start_time": "2024-08-05T15:16:16.823Z"
   },
   {
    "duration": 27,
    "start_time": "2024-08-05T15:16:16.854Z"
   },
   {
    "duration": 77,
    "start_time": "2024-08-05T15:16:16.883Z"
   },
   {
    "duration": 785,
    "start_time": "2024-08-05T15:16:16.962Z"
   },
   {
    "duration": 42,
    "start_time": "2024-08-05T15:16:17.749Z"
   },
   {
    "duration": 584,
    "start_time": "2024-08-05T15:16:17.793Z"
   },
   {
    "duration": 9,
    "start_time": "2024-08-05T15:16:18.379Z"
   },
   {
    "duration": 32,
    "start_time": "2024-08-05T15:16:18.389Z"
   },
   {
    "duration": 53,
    "start_time": "2024-08-05T15:16:18.423Z"
   },
   {
    "duration": 29,
    "start_time": "2024-08-05T15:16:18.477Z"
   },
   {
    "duration": 87,
    "start_time": "2024-08-05T15:16:18.507Z"
   },
   {
    "duration": 18,
    "start_time": "2024-08-05T15:16:18.596Z"
   },
   {
    "duration": 4,
    "start_time": "2024-08-05T15:16:18.616Z"
   },
   {
    "duration": 9,
    "start_time": "2024-08-05T15:16:18.648Z"
   },
   {
    "duration": 15,
    "start_time": "2024-08-05T15:16:18.658Z"
   },
   {
    "duration": 8,
    "start_time": "2024-08-05T15:16:18.676Z"
   },
   {
    "duration": 19,
    "start_time": "2024-08-05T15:16:18.686Z"
   },
   {
    "duration": 59,
    "start_time": "2024-08-05T15:16:18.707Z"
   },
   {
    "duration": 184,
    "start_time": "2024-08-05T15:16:18.768Z"
   },
   {
    "duration": 48,
    "start_time": "2024-08-05T15:16:18.954Z"
   },
   {
    "duration": 138,
    "start_time": "2024-08-05T15:16:19.004Z"
   },
   {
    "duration": 11,
    "start_time": "2024-08-05T15:16:19.146Z"
   },
   {
    "duration": 210,
    "start_time": "2024-08-05T15:16:19.160Z"
   },
   {
    "duration": 227,
    "start_time": "2024-08-05T15:16:19.373Z"
   },
   {
    "duration": 161,
    "start_time": "2024-08-05T15:16:19.602Z"
   },
   {
    "duration": 182,
    "start_time": "2024-08-05T15:16:19.766Z"
   },
   {
    "duration": 5,
    "start_time": "2024-08-05T15:16:19.949Z"
   },
   {
    "duration": 19,
    "start_time": "2024-08-05T15:16:19.956Z"
   },
   {
    "duration": 158,
    "start_time": "2024-08-05T15:16:19.976Z"
   },
   {
    "duration": 164,
    "start_time": "2024-08-05T15:16:20.135Z"
   },
   {
    "duration": 175,
    "start_time": "2024-08-05T15:16:20.301Z"
   },
   {
    "duration": 200,
    "start_time": "2024-08-05T15:16:20.478Z"
   }
  ],
  "kernelspec": {
   "display_name": "Python 3 (ipykernel)",
   "language": "python",
   "name": "python3"
  },
  "language_info": {
   "codemirror_mode": {
    "name": "ipython",
    "version": 3
   },
   "file_extension": ".py",
   "mimetype": "text/x-python",
   "name": "python",
   "nbconvert_exporter": "python",
   "pygments_lexer": "ipython3",
   "version": "3.9.5"
  },
  "toc": {
   "base_numbering": 1,
   "nav_menu": {},
   "number_sections": true,
   "sideBar": true,
   "skip_h1_title": true,
   "title_cell": "Table of Contents",
   "title_sidebar": "Contents",
   "toc_cell": false,
   "toc_position": {
    "height": "calc(100% - 180px)",
    "left": "10px",
    "top": "150px",
    "width": "226.175px"
   },
   "toc_section_display": true,
   "toc_window_display": true
  }
 },
 "nbformat": 4,
 "nbformat_minor": 2
}
